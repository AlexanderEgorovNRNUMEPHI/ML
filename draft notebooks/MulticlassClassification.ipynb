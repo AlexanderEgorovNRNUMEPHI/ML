{
 "cells": [
  {
   "cell_type": "code",
   "execution_count": 320,
   "metadata": {},
   "outputs": [],
   "source": [
    "from sklearn import metrics\n",
    "from sklearn.metrics import classification_report"
   ]
  },
  {
   "cell_type": "code",
   "execution_count": 321,
   "metadata": {},
   "outputs": [
    {
     "name": "stderr",
     "output_type": "stream",
     "text": [
      " 15%|███████████▍                                                               | 1963/12822 [00:00<00:01, 9829.24it/s]"
     ]
    },
    {
     "name": "stdout",
     "output_type": "stream",
     "text": [
      "loading  neg\n"
     ]
    },
    {
     "name": "stderr",
     "output_type": "stream",
     "text": [
      "100%|██████████████████████████████████████████████████████████████████████████| 12822/12822 [00:01<00:00, 9800.38it/s]\n",
      " 16%|████████████                                                              | 2034/12500 [00:00<00:01, 10049.49it/s]"
     ]
    },
    {
     "name": "stdout",
     "output_type": "stream",
     "text": [
      "loading  pos\n"
     ]
    },
    {
     "name": "stderr",
     "output_type": "stream",
     "text": [
      "100%|██████████████████████████████████████████████████████████████████████████| 12500/12500 [00:01<00:00, 9740.60it/s]\n"
     ]
    }
   ],
   "source": [
    "import os\n",
    "from tqdm import tqdm\n",
    "train_dir = 'D:/KAES/Green/train'\n",
    "\n",
    "# Setup empty lists to fill\n",
    "labels_train = []\n",
    "texts_train = []\n",
    "\n",
    "# First go through the negatives, then through the positives\n",
    "for label_type in ['neg', 'pos']:\n",
    "    # Get the sub path\n",
    "    dir_name = os.path.join(train_dir, label_type)\n",
    "    print('loading ',label_type)\n",
    "    # Loop over all files in path\n",
    "    for fname in tqdm(os.listdir(dir_name)):\n",
    "        \n",
    "        # Only consider text files\n",
    "        if fname[-4:] == '.txt':\n",
    "            # Read the text file and put it in the list\n",
    "            f = open(os.path.join(dir_name, fname),encoding=\"utf-8\")\n",
    "            name=os.path.splitext(f.name)[0]\n",
    "            texts_train.append(f.read())\n",
    "            labels_train.append(name[-1])\n",
    "            f.close()\n",
    "          "
   ]
  },
  {
   "cell_type": "code",
   "execution_count": 322,
   "metadata": {},
   "outputs": [
    {
     "name": "stderr",
     "output_type": "stream",
     "text": [
      "  8%|██████                                                                      | 998/12500 [00:00<00:01, 9977.68it/s]"
     ]
    },
    {
     "name": "stdout",
     "output_type": "stream",
     "text": [
      "loading  neg\n"
     ]
    },
    {
     "name": "stderr",
     "output_type": "stream",
     "text": [
      "100%|██████████████████████████████████████████████████████████████████████████| 12500/12500 [00:01<00:00, 9695.25it/s]\n",
      "  8%|█████▉                                                                      | 975/12500 [00:00<00:01, 9747.75it/s]"
     ]
    },
    {
     "name": "stdout",
     "output_type": "stream",
     "text": [
      "loading  pos\n"
     ]
    },
    {
     "name": "stderr",
     "output_type": "stream",
     "text": [
      "100%|██████████████████████████████████████████████████████████████████████████| 12500/12500 [00:01<00:00, 9887.01it/s]\n"
     ]
    }
   ],
   "source": [
    "import os\n",
    "\n",
    "test_dir = 'D:/KAES/Green/test'\n",
    "\n",
    "# Setup empty lists to fill\n",
    "labels_test = []\n",
    "texts_test = []\n",
    "\n",
    "# First go through the negatives, then through the positives\n",
    "for label_type in ['neg', 'pos']:\n",
    "    # Get the sub path\n",
    "    dir_name = os.path.join(test_dir, label_type)\n",
    "    print('loading ',label_type)\n",
    "    # Loop over all files in path\n",
    "    for fname in tqdm(os.listdir(dir_name)):\n",
    "        \n",
    "        # Only consider text files\n",
    "        if fname[-4:] == '.txt':\n",
    "            # Read the text file and put it in the list\n",
    "            f = open(os.path.join(dir_name, fname),encoding=\"utf-8\")\n",
    "            name=os.path.splitext(f.name)[0]\n",
    "            texts_test.append(f.read())\n",
    "            labels_test.append(name[-1])\n",
    "            f.close()"
   ]
  },
  {
   "cell_type": "code",
   "execution_count": 323,
   "metadata": {},
   "outputs": [],
   "source": [
    "for i, element in enumerate(texts_train):\n",
    "    element = element.replace('<br />','')\n",
    "    texts_train[i] = element"
   ]
  },
  {
   "cell_type": "code",
   "execution_count": 324,
   "metadata": {},
   "outputs": [],
   "source": [
    "for i, element in enumerate(texts_test):\n",
    "    element = element.replace('<br />','')\n",
    "    texts_test[i] = element"
   ]
  },
  {
   "cell_type": "code",
   "execution_count": 325,
   "metadata": {},
   "outputs": [],
   "source": [
    "import pandas as pd\n",
    "df = pd.DataFrame(texts_train, columns =['reviews'])\n",
    "df1=pd.DataFrame(labels_train, columns =['labels'])\n",
    "dataframe_train=pd.concat([df,df1], axis=1)"
   ]
  },
  {
   "cell_type": "code",
   "execution_count": 326,
   "metadata": {},
   "outputs": [],
   "source": [
    "import pandas as pd\n",
    "df = pd.DataFrame(texts_test, columns =['reviews'])\n",
    "df1=pd.DataFrame(labels_test, columns =['labels'])\n",
    "dataframe_test=pd.concat([df,df1], axis=1)"
   ]
  },
  {
   "cell_type": "code",
   "execution_count": 327,
   "metadata": {},
   "outputs": [
    {
     "data": {
      "text/html": [
       "<div>\n",
       "<style scoped>\n",
       "    .dataframe tbody tr th:only-of-type {\n",
       "        vertical-align: middle;\n",
       "    }\n",
       "\n",
       "    .dataframe tbody tr th {\n",
       "        vertical-align: top;\n",
       "    }\n",
       "\n",
       "    .dataframe thead th {\n",
       "        text-align: right;\n",
       "    }\n",
       "</style>\n",
       "<table border=\"1\" class=\"dataframe\">\n",
       "  <thead>\n",
       "    <tr style=\"text-align: right;\">\n",
       "      <th></th>\n",
       "      <th>reviews</th>\n",
       "      <th>labels</th>\n",
       "    </tr>\n",
       "  </thead>\n",
       "  <tbody>\n",
       "    <tr>\n",
       "      <th>0</th>\n",
       "      <td>Story of a man who has unnatural feelings for ...</td>\n",
       "      <td>3</td>\n",
       "    </tr>\n",
       "    <tr>\n",
       "      <th>1</th>\n",
       "      <td>Airport '77 starts as a brand new luxury 747 p...</td>\n",
       "      <td>4</td>\n",
       "    </tr>\n",
       "    <tr>\n",
       "      <th>2</th>\n",
       "      <td>This film lacked something I couldn't put my f...</td>\n",
       "      <td>4</td>\n",
       "    </tr>\n",
       "    <tr>\n",
       "      <th>3</th>\n",
       "      <td>Sorry everyone,,, I know this is supposed to b...</td>\n",
       "      <td>1</td>\n",
       "    </tr>\n",
       "    <tr>\n",
       "      <th>4</th>\n",
       "      <td>When I was little my parents took me along to ...</td>\n",
       "      <td>1</td>\n",
       "    </tr>\n",
       "    <tr>\n",
       "      <th>...</th>\n",
       "      <td>...</td>\n",
       "      <td>...</td>\n",
       "    </tr>\n",
       "    <tr>\n",
       "      <th>25317</th>\n",
       "      <td>Seeing as the vote average was pretty low, and...</td>\n",
       "      <td>9</td>\n",
       "    </tr>\n",
       "    <tr>\n",
       "      <th>25318</th>\n",
       "      <td>The plot had some wretched, unbelievable twist...</td>\n",
       "      <td>8</td>\n",
       "    </tr>\n",
       "    <tr>\n",
       "      <th>25319</th>\n",
       "      <td>I am amazed at how this movie(and most others ...</td>\n",
       "      <td>0</td>\n",
       "    </tr>\n",
       "    <tr>\n",
       "      <th>25320</th>\n",
       "      <td>A Christmas Together actually came before my t...</td>\n",
       "      <td>8</td>\n",
       "    </tr>\n",
       "    <tr>\n",
       "      <th>25321</th>\n",
       "      <td>Working-class romantic drama from director Mar...</td>\n",
       "      <td>7</td>\n",
       "    </tr>\n",
       "  </tbody>\n",
       "</table>\n",
       "<p>25322 rows × 2 columns</p>\n",
       "</div>"
      ],
      "text/plain": [
       "                                                 reviews labels\n",
       "0      Story of a man who has unnatural feelings for ...      3\n",
       "1      Airport '77 starts as a brand new luxury 747 p...      4\n",
       "2      This film lacked something I couldn't put my f...      4\n",
       "3      Sorry everyone,,, I know this is supposed to b...      1\n",
       "4      When I was little my parents took me along to ...      1\n",
       "...                                                  ...    ...\n",
       "25317  Seeing as the vote average was pretty low, and...      9\n",
       "25318  The plot had some wretched, unbelievable twist...      8\n",
       "25319  I am amazed at how this movie(and most others ...      0\n",
       "25320  A Christmas Together actually came before my t...      8\n",
       "25321  Working-class romantic drama from director Mar...      7\n",
       "\n",
       "[25322 rows x 2 columns]"
      ]
     },
     "execution_count": 327,
     "metadata": {},
     "output_type": "execute_result"
    }
   ],
   "source": [
    "dataframe_train"
   ]
  },
  {
   "cell_type": "code",
   "execution_count": 328,
   "metadata": {},
   "outputs": [
    {
     "data": {
      "text/html": [
       "<div>\n",
       "<style scoped>\n",
       "    .dataframe tbody tr th:only-of-type {\n",
       "        vertical-align: middle;\n",
       "    }\n",
       "\n",
       "    .dataframe tbody tr th {\n",
       "        vertical-align: top;\n",
       "    }\n",
       "\n",
       "    .dataframe thead th {\n",
       "        text-align: right;\n",
       "    }\n",
       "</style>\n",
       "<table border=\"1\" class=\"dataframe\">\n",
       "  <thead>\n",
       "    <tr style=\"text-align: right;\">\n",
       "      <th></th>\n",
       "      <th>reviews</th>\n",
       "      <th>labels</th>\n",
       "    </tr>\n",
       "  </thead>\n",
       "  <tbody>\n",
       "    <tr>\n",
       "      <th>0</th>\n",
       "      <td>Once again Mr. Costner has dragged out a movie...</td>\n",
       "      <td>2</td>\n",
       "    </tr>\n",
       "    <tr>\n",
       "      <th>1</th>\n",
       "      <td>This is an example of why the majority of acti...</td>\n",
       "      <td>4</td>\n",
       "    </tr>\n",
       "    <tr>\n",
       "      <th>2</th>\n",
       "      <td>First of all I hate those moronic rappers, who...</td>\n",
       "      <td>1</td>\n",
       "    </tr>\n",
       "    <tr>\n",
       "      <th>3</th>\n",
       "      <td>Not even the Beatles could write songs everyon...</td>\n",
       "      <td>3</td>\n",
       "    </tr>\n",
       "    <tr>\n",
       "      <th>4</th>\n",
       "      <td>Brass pictures (movies is not a fitting word f...</td>\n",
       "      <td>3</td>\n",
       "    </tr>\n",
       "    <tr>\n",
       "      <th>...</th>\n",
       "      <td>...</td>\n",
       "      <td>...</td>\n",
       "    </tr>\n",
       "    <tr>\n",
       "      <th>24995</th>\n",
       "      <td>I was extraordinarily impressed by this film. ...</td>\n",
       "      <td>8</td>\n",
       "    </tr>\n",
       "    <tr>\n",
       "      <th>24996</th>\n",
       "      <td>Although I'm not a golf fan, I attended a snea...</td>\n",
       "      <td>0</td>\n",
       "    </tr>\n",
       "    <tr>\n",
       "      <th>24997</th>\n",
       "      <td>From the start of \"The Edge Of Love\", the view...</td>\n",
       "      <td>8</td>\n",
       "    </tr>\n",
       "    <tr>\n",
       "      <th>24998</th>\n",
       "      <td>This movie, with all its complexity and subtle...</td>\n",
       "      <td>0</td>\n",
       "    </tr>\n",
       "    <tr>\n",
       "      <th>24999</th>\n",
       "      <td>I've seen this story before but my kids haven'...</td>\n",
       "      <td>7</td>\n",
       "    </tr>\n",
       "  </tbody>\n",
       "</table>\n",
       "<p>25000 rows × 2 columns</p>\n",
       "</div>"
      ],
      "text/plain": [
       "                                                 reviews labels\n",
       "0      Once again Mr. Costner has dragged out a movie...      2\n",
       "1      This is an example of why the majority of acti...      4\n",
       "2      First of all I hate those moronic rappers, who...      1\n",
       "3      Not even the Beatles could write songs everyon...      3\n",
       "4      Brass pictures (movies is not a fitting word f...      3\n",
       "...                                                  ...    ...\n",
       "24995  I was extraordinarily impressed by this film. ...      8\n",
       "24996  Although I'm not a golf fan, I attended a snea...      0\n",
       "24997  From the start of \"The Edge Of Love\", the view...      8\n",
       "24998  This movie, with all its complexity and subtle...      0\n",
       "24999  I've seen this story before but my kids haven'...      7\n",
       "\n",
       "[25000 rows x 2 columns]"
      ]
     },
     "execution_count": 328,
     "metadata": {},
     "output_type": "execute_result"
    }
   ],
   "source": [
    "dataframe_test"
   ]
  },
  {
   "cell_type": "code",
   "execution_count": 329,
   "metadata": {},
   "outputs": [
    {
     "name": "stderr",
     "output_type": "stream",
     "text": [
      "D:\\Anaconda\\envs\\name_X\\lib\\site-packages\\pandas\\core\\indexing.py:1637: SettingWithCopyWarning: \n",
      "A value is trying to be set on a copy of a slice from a DataFrame\n",
      "\n",
      "See the caveats in the documentation: https://pandas.pydata.org/pandas-docs/stable/user_guide/indexing.html#returning-a-view-versus-a-copy\n",
      "  self._setitem_single_block(indexer, value, name)\n",
      "D:\\Anaconda\\envs\\name_X\\lib\\site-packages\\pandas\\core\\indexing.py:1637: SettingWithCopyWarning: \n",
      "A value is trying to be set on a copy of a slice from a DataFrame\n",
      "\n",
      "See the caveats in the documentation: https://pandas.pydata.org/pandas-docs/stable/user_guide/indexing.html#returning-a-view-versus-a-copy\n",
      "  self._setitem_single_block(indexer, value, name)\n"
     ]
    }
   ],
   "source": [
    "dataframe_train.labels = pd.to_numeric(dataframe_train.labels, errors='coerce')\n",
    "dataframe_test.labels = pd.to_numeric(dataframe_test.labels, errors='coerce')\n",
    "dataframe_train.labels.loc[dataframe_train['labels'] == 0.0] = 10.0\n",
    "dataframe_test.labels.loc[dataframe_test['labels'] == 0.0] = 10.0"
   ]
  },
  {
   "cell_type": "code",
   "execution_count": null,
   "metadata": {},
   "outputs": [],
   "source": []
  },
  {
   "cell_type": "code",
   "execution_count": null,
   "metadata": {},
   "outputs": [],
   "source": []
  },
  {
   "cell_type": "code",
   "execution_count": 330,
   "metadata": {},
   "outputs": [
    {
     "data": {
      "text/plain": [
       "array([ 3.,  4.,  1.,  2., nan,  9.,  8., 10.,  7.])"
      ]
     },
     "execution_count": 330,
     "metadata": {},
     "output_type": "execute_result"
    }
   ],
   "source": [
    "dataframe_train.labels.unique()"
   ]
  },
  {
   "cell_type": "code",
   "execution_count": 331,
   "metadata": {},
   "outputs": [
    {
     "data": {
      "text/plain": [
       "array([ 2,  4,  1,  3, 10,  7,  9,  8], dtype=int64)"
      ]
     },
     "execution_count": 331,
     "metadata": {},
     "output_type": "execute_result"
    }
   ],
   "source": [
    "dataframe_test.labels.unique()"
   ]
  },
  {
   "cell_type": "code",
   "execution_count": 332,
   "metadata": {},
   "outputs": [],
   "source": [
    "dataframe_train=dataframe_train.dropna()\n",
    "dataframe_train=dataframe_train.drop_duplicates()\n",
    "\n",
    "dataframe_test=dataframe_test.dropna()\n",
    "dataframe_train=dataframe_test.drop_duplicates()"
   ]
  },
  {
   "cell_type": "code",
   "execution_count": 333,
   "metadata": {},
   "outputs": [
    {
     "name": "stderr",
     "output_type": "stream",
     "text": [
      "<ipython-input-333-992619e1fa51>:1: SettingWithCopyWarning: \n",
      "A value is trying to be set on a copy of a slice from a DataFrame.\n",
      "Try using .loc[row_indexer,col_indexer] = value instead\n",
      "\n",
      "See the caveats in the documentation: https://pandas.pydata.org/pandas-docs/stable/user_guide/indexing.html#returning-a-view-versus-a-copy\n",
      "  dataframe_train['binary'] = dataframe_train['labels'].apply(binary)\n"
     ]
    },
    {
     "data": {
      "text/html": [
       "<div>\n",
       "<style scoped>\n",
       "    .dataframe tbody tr th:only-of-type {\n",
       "        vertical-align: middle;\n",
       "    }\n",
       "\n",
       "    .dataframe tbody tr th {\n",
       "        vertical-align: top;\n",
       "    }\n",
       "\n",
       "    .dataframe thead th {\n",
       "        text-align: right;\n",
       "    }\n",
       "</style>\n",
       "<table border=\"1\" class=\"dataframe\">\n",
       "  <thead>\n",
       "    <tr style=\"text-align: right;\">\n",
       "      <th></th>\n",
       "      <th>reviews</th>\n",
       "      <th>labels</th>\n",
       "      <th>binary</th>\n",
       "    </tr>\n",
       "  </thead>\n",
       "  <tbody>\n",
       "    <tr>\n",
       "      <th>0</th>\n",
       "      <td>Once again Mr. Costner has dragged out a movie...</td>\n",
       "      <td>2</td>\n",
       "      <td>0</td>\n",
       "    </tr>\n",
       "    <tr>\n",
       "      <th>1</th>\n",
       "      <td>This is an example of why the majority of acti...</td>\n",
       "      <td>4</td>\n",
       "      <td>0</td>\n",
       "    </tr>\n",
       "  </tbody>\n",
       "</table>\n",
       "</div>"
      ],
      "text/plain": [
       "                                             reviews  labels  binary\n",
       "0  Once again Mr. Costner has dragged out a movie...       2       0\n",
       "1  This is an example of why the majority of acti...       4       0"
      ]
     },
     "execution_count": 333,
     "metadata": {},
     "output_type": "execute_result"
    }
   ],
   "source": [
    "dataframe_train['binary'] = dataframe_train['labels'].apply(binary)\n",
    "dataframe_train.head(2)\n",
    "\n",
    "dataframe_test['binary'] = dataframe_test['labels'].apply(binary)\n",
    "dataframe_train.head(2)"
   ]
  },
  {
   "cell_type": "code",
   "execution_count": 334,
   "metadata": {},
   "outputs": [],
   "source": [
    "from textblob import TextBlob\n",
    "def polarity_txt(text):\n",
    "    return TextBlob(text).sentiment[0]"
   ]
  },
  {
   "cell_type": "code",
   "execution_count": 335,
   "metadata": {},
   "outputs": [],
   "source": [
    "def subj_txt(text):\n",
    "    return  TextBlob(text).sentiment[1]"
   ]
  },
  {
   "cell_type": "code",
   "execution_count": 336,
   "metadata": {},
   "outputs": [],
   "source": [
    "def len_txt(text):\n",
    "    return len(text)"
   ]
  },
  {
   "cell_type": "code",
   "execution_count": 337,
   "metadata": {},
   "outputs": [
    {
     "name": "stderr",
     "output_type": "stream",
     "text": [
      "<ipython-input-337-b8acc4d380b9>:1: SettingWithCopyWarning: \n",
      "A value is trying to be set on a copy of a slice from a DataFrame.\n",
      "Try using .loc[row_indexer,col_indexer] = value instead\n",
      "\n",
      "See the caveats in the documentation: https://pandas.pydata.org/pandas-docs/stable/user_guide/indexing.html#returning-a-view-versus-a-copy\n",
      "  dataframe_train['lenght'] = dataframe_train['reviews'].apply(len_txt)\n"
     ]
    },
    {
     "data": {
      "text/html": [
       "<div>\n",
       "<style scoped>\n",
       "    .dataframe tbody tr th:only-of-type {\n",
       "        vertical-align: middle;\n",
       "    }\n",
       "\n",
       "    .dataframe tbody tr th {\n",
       "        vertical-align: top;\n",
       "    }\n",
       "\n",
       "    .dataframe thead th {\n",
       "        text-align: right;\n",
       "    }\n",
       "</style>\n",
       "<table border=\"1\" class=\"dataframe\">\n",
       "  <thead>\n",
       "    <tr style=\"text-align: right;\">\n",
       "      <th></th>\n",
       "      <th>reviews</th>\n",
       "      <th>labels</th>\n",
       "      <th>binary</th>\n",
       "      <th>lenght</th>\n",
       "    </tr>\n",
       "  </thead>\n",
       "  <tbody>\n",
       "    <tr>\n",
       "      <th>0</th>\n",
       "      <td>Once again Mr. Costner has dragged out a movie...</td>\n",
       "      <td>2</td>\n",
       "      <td>0</td>\n",
       "      <td>900</td>\n",
       "    </tr>\n",
       "    <tr>\n",
       "      <th>1</th>\n",
       "      <td>This is an example of why the majority of acti...</td>\n",
       "      <td>4</td>\n",
       "      <td>0</td>\n",
       "      <td>1311</td>\n",
       "    </tr>\n",
       "  </tbody>\n",
       "</table>\n",
       "</div>"
      ],
      "text/plain": [
       "                                             reviews  labels  binary  lenght\n",
       "0  Once again Mr. Costner has dragged out a movie...       2       0     900\n",
       "1  This is an example of why the majority of acti...       4       0    1311"
      ]
     },
     "execution_count": 337,
     "metadata": {},
     "output_type": "execute_result"
    }
   ],
   "source": [
    "dataframe_train['lenght'] = dataframe_train['reviews'].apply(len_txt)\n",
    "dataframe_train.head(2)"
   ]
  },
  {
   "cell_type": "code",
   "execution_count": 338,
   "metadata": {},
   "outputs": [
    {
     "data": {
      "text/html": [
       "<div>\n",
       "<style scoped>\n",
       "    .dataframe tbody tr th:only-of-type {\n",
       "        vertical-align: middle;\n",
       "    }\n",
       "\n",
       "    .dataframe tbody tr th {\n",
       "        vertical-align: top;\n",
       "    }\n",
       "\n",
       "    .dataframe thead th {\n",
       "        text-align: right;\n",
       "    }\n",
       "</style>\n",
       "<table border=\"1\" class=\"dataframe\">\n",
       "  <thead>\n",
       "    <tr style=\"text-align: right;\">\n",
       "      <th></th>\n",
       "      <th>reviews</th>\n",
       "      <th>labels</th>\n",
       "      <th>binary</th>\n",
       "      <th>lenght</th>\n",
       "    </tr>\n",
       "  </thead>\n",
       "  <tbody>\n",
       "    <tr>\n",
       "      <th>0</th>\n",
       "      <td>Once again Mr. Costner has dragged out a movie...</td>\n",
       "      <td>2</td>\n",
       "      <td>0</td>\n",
       "      <td>900</td>\n",
       "    </tr>\n",
       "    <tr>\n",
       "      <th>1</th>\n",
       "      <td>This is an example of why the majority of acti...</td>\n",
       "      <td>4</td>\n",
       "      <td>0</td>\n",
       "      <td>1311</td>\n",
       "    </tr>\n",
       "  </tbody>\n",
       "</table>\n",
       "</div>"
      ],
      "text/plain": [
       "                                             reviews  labels  binary  lenght\n",
       "0  Once again Mr. Costner has dragged out a movie...       2       0     900\n",
       "1  This is an example of why the majority of acti...       4       0    1311"
      ]
     },
     "execution_count": 338,
     "metadata": {},
     "output_type": "execute_result"
    }
   ],
   "source": [
    "dataframe_test['lenght'] = dataframe_test['reviews'].apply(len_txt)\n",
    "dataframe_test.head(2)"
   ]
  },
  {
   "cell_type": "code",
   "execution_count": 339,
   "metadata": {},
   "outputs": [
    {
     "name": "stderr",
     "output_type": "stream",
     "text": [
      "<ipython-input-339-da82943f9506>:1: SettingWithCopyWarning: \n",
      "A value is trying to be set on a copy of a slice from a DataFrame.\n",
      "Try using .loc[row_indexer,col_indexer] = value instead\n",
      "\n",
      "See the caveats in the documentation: https://pandas.pydata.org/pandas-docs/stable/user_guide/indexing.html#returning-a-view-versus-a-copy\n",
      "  dataframe_train['polarity'] = dataframe_train['reviews'].apply(polarity_txt)\n"
     ]
    },
    {
     "data": {
      "text/html": [
       "<div>\n",
       "<style scoped>\n",
       "    .dataframe tbody tr th:only-of-type {\n",
       "        vertical-align: middle;\n",
       "    }\n",
       "\n",
       "    .dataframe tbody tr th {\n",
       "        vertical-align: top;\n",
       "    }\n",
       "\n",
       "    .dataframe thead th {\n",
       "        text-align: right;\n",
       "    }\n",
       "</style>\n",
       "<table border=\"1\" class=\"dataframe\">\n",
       "  <thead>\n",
       "    <tr style=\"text-align: right;\">\n",
       "      <th></th>\n",
       "      <th>reviews</th>\n",
       "      <th>labels</th>\n",
       "      <th>binary</th>\n",
       "      <th>lenght</th>\n",
       "      <th>polarity</th>\n",
       "    </tr>\n",
       "  </thead>\n",
       "  <tbody>\n",
       "    <tr>\n",
       "      <th>0</th>\n",
       "      <td>Once again Mr. Costner has dragged out a movie...</td>\n",
       "      <td>2</td>\n",
       "      <td>0</td>\n",
       "      <td>900</td>\n",
       "      <td>0.063860</td>\n",
       "    </tr>\n",
       "    <tr>\n",
       "      <th>1</th>\n",
       "      <td>This is an example of why the majority of acti...</td>\n",
       "      <td>4</td>\n",
       "      <td>0</td>\n",
       "      <td>1311</td>\n",
       "      <td>0.042554</td>\n",
       "    </tr>\n",
       "  </tbody>\n",
       "</table>\n",
       "</div>"
      ],
      "text/plain": [
       "                                             reviews  labels  binary  lenght  \\\n",
       "0  Once again Mr. Costner has dragged out a movie...       2       0     900   \n",
       "1  This is an example of why the majority of acti...       4       0    1311   \n",
       "\n",
       "   polarity  \n",
       "0  0.063860  \n",
       "1  0.042554  "
      ]
     },
     "execution_count": 339,
     "metadata": {},
     "output_type": "execute_result"
    }
   ],
   "source": [
    "dataframe_train['polarity'] = dataframe_train['reviews'].apply(polarity_txt)\n",
    "dataframe_train.head(2)"
   ]
  },
  {
   "cell_type": "code",
   "execution_count": 340,
   "metadata": {},
   "outputs": [
    {
     "data": {
      "text/html": [
       "<div>\n",
       "<style scoped>\n",
       "    .dataframe tbody tr th:only-of-type {\n",
       "        vertical-align: middle;\n",
       "    }\n",
       "\n",
       "    .dataframe tbody tr th {\n",
       "        vertical-align: top;\n",
       "    }\n",
       "\n",
       "    .dataframe thead th {\n",
       "        text-align: right;\n",
       "    }\n",
       "</style>\n",
       "<table border=\"1\" class=\"dataframe\">\n",
       "  <thead>\n",
       "    <tr style=\"text-align: right;\">\n",
       "      <th></th>\n",
       "      <th>reviews</th>\n",
       "      <th>labels</th>\n",
       "      <th>binary</th>\n",
       "      <th>lenght</th>\n",
       "      <th>polarity</th>\n",
       "    </tr>\n",
       "  </thead>\n",
       "  <tbody>\n",
       "    <tr>\n",
       "      <th>0</th>\n",
       "      <td>Once again Mr. Costner has dragged out a movie...</td>\n",
       "      <td>2</td>\n",
       "      <td>0</td>\n",
       "      <td>900</td>\n",
       "      <td>0.063860</td>\n",
       "    </tr>\n",
       "    <tr>\n",
       "      <th>1</th>\n",
       "      <td>This is an example of why the majority of acti...</td>\n",
       "      <td>4</td>\n",
       "      <td>0</td>\n",
       "      <td>1311</td>\n",
       "      <td>0.042554</td>\n",
       "    </tr>\n",
       "  </tbody>\n",
       "</table>\n",
       "</div>"
      ],
      "text/plain": [
       "                                             reviews  labels  binary  lenght  \\\n",
       "0  Once again Mr. Costner has dragged out a movie...       2       0     900   \n",
       "1  This is an example of why the majority of acti...       4       0    1311   \n",
       "\n",
       "   polarity  \n",
       "0  0.063860  \n",
       "1  0.042554  "
      ]
     },
     "execution_count": 340,
     "metadata": {},
     "output_type": "execute_result"
    }
   ],
   "source": [
    "dataframe_test['polarity'] = dataframe_test['reviews'].apply(polarity_txt)\n",
    "dataframe_test.head(2)"
   ]
  },
  {
   "cell_type": "code",
   "execution_count": 341,
   "metadata": {},
   "outputs": [
    {
     "name": "stderr",
     "output_type": "stream",
     "text": [
      "<ipython-input-341-564aa01c1594>:1: SettingWithCopyWarning: \n",
      "A value is trying to be set on a copy of a slice from a DataFrame.\n",
      "Try using .loc[row_indexer,col_indexer] = value instead\n",
      "\n",
      "See the caveats in the documentation: https://pandas.pydata.org/pandas-docs/stable/user_guide/indexing.html#returning-a-view-versus-a-copy\n",
      "  dataframe_train['subjectivity'] = dataframe_train['reviews'].apply(subj_txt)\n"
     ]
    },
    {
     "data": {
      "text/html": [
       "<div>\n",
       "<style scoped>\n",
       "    .dataframe tbody tr th:only-of-type {\n",
       "        vertical-align: middle;\n",
       "    }\n",
       "\n",
       "    .dataframe tbody tr th {\n",
       "        vertical-align: top;\n",
       "    }\n",
       "\n",
       "    .dataframe thead th {\n",
       "        text-align: right;\n",
       "    }\n",
       "</style>\n",
       "<table border=\"1\" class=\"dataframe\">\n",
       "  <thead>\n",
       "    <tr style=\"text-align: right;\">\n",
       "      <th></th>\n",
       "      <th>reviews</th>\n",
       "      <th>labels</th>\n",
       "      <th>binary</th>\n",
       "      <th>lenght</th>\n",
       "      <th>polarity</th>\n",
       "      <th>subjectivity</th>\n",
       "    </tr>\n",
       "  </thead>\n",
       "  <tbody>\n",
       "    <tr>\n",
       "      <th>0</th>\n",
       "      <td>Once again Mr. Costner has dragged out a movie...</td>\n",
       "      <td>2</td>\n",
       "      <td>0</td>\n",
       "      <td>900</td>\n",
       "      <td>0.063860</td>\n",
       "      <td>0.562982</td>\n",
       "    </tr>\n",
       "    <tr>\n",
       "      <th>1</th>\n",
       "      <td>This is an example of why the majority of acti...</td>\n",
       "      <td>4</td>\n",
       "      <td>0</td>\n",
       "      <td>1311</td>\n",
       "      <td>0.042554</td>\n",
       "      <td>0.387165</td>\n",
       "    </tr>\n",
       "  </tbody>\n",
       "</table>\n",
       "</div>"
      ],
      "text/plain": [
       "                                             reviews  labels  binary  lenght  \\\n",
       "0  Once again Mr. Costner has dragged out a movie...       2       0     900   \n",
       "1  This is an example of why the majority of acti...       4       0    1311   \n",
       "\n",
       "   polarity  subjectivity  \n",
       "0  0.063860      0.562982  \n",
       "1  0.042554      0.387165  "
      ]
     },
     "execution_count": 341,
     "metadata": {},
     "output_type": "execute_result"
    }
   ],
   "source": [
    "dataframe_train['subjectivity'] = dataframe_train['reviews'].apply(subj_txt)\n",
    "dataframe_train.head(2)"
   ]
  },
  {
   "cell_type": "code",
   "execution_count": 342,
   "metadata": {},
   "outputs": [
    {
     "data": {
      "text/html": [
       "<div>\n",
       "<style scoped>\n",
       "    .dataframe tbody tr th:only-of-type {\n",
       "        vertical-align: middle;\n",
       "    }\n",
       "\n",
       "    .dataframe tbody tr th {\n",
       "        vertical-align: top;\n",
       "    }\n",
       "\n",
       "    .dataframe thead th {\n",
       "        text-align: right;\n",
       "    }\n",
       "</style>\n",
       "<table border=\"1\" class=\"dataframe\">\n",
       "  <thead>\n",
       "    <tr style=\"text-align: right;\">\n",
       "      <th></th>\n",
       "      <th>reviews</th>\n",
       "      <th>labels</th>\n",
       "      <th>binary</th>\n",
       "      <th>lenght</th>\n",
       "      <th>polarity</th>\n",
       "      <th>subjectivity</th>\n",
       "    </tr>\n",
       "  </thead>\n",
       "  <tbody>\n",
       "    <tr>\n",
       "      <th>0</th>\n",
       "      <td>Once again Mr. Costner has dragged out a movie...</td>\n",
       "      <td>2</td>\n",
       "      <td>0</td>\n",
       "      <td>900</td>\n",
       "      <td>0.063860</td>\n",
       "      <td>0.562982</td>\n",
       "    </tr>\n",
       "    <tr>\n",
       "      <th>1</th>\n",
       "      <td>This is an example of why the majority of acti...</td>\n",
       "      <td>4</td>\n",
       "      <td>0</td>\n",
       "      <td>1311</td>\n",
       "      <td>0.042554</td>\n",
       "      <td>0.387165</td>\n",
       "    </tr>\n",
       "  </tbody>\n",
       "</table>\n",
       "</div>"
      ],
      "text/plain": [
       "                                             reviews  labels  binary  lenght  \\\n",
       "0  Once again Mr. Costner has dragged out a movie...       2       0     900   \n",
       "1  This is an example of why the majority of acti...       4       0    1311   \n",
       "\n",
       "   polarity  subjectivity  \n",
       "0  0.063860      0.562982  \n",
       "1  0.042554      0.387165  "
      ]
     },
     "execution_count": 342,
     "metadata": {},
     "output_type": "execute_result"
    }
   ],
   "source": [
    "dataframe_test['subjectivity'] = dataframe_test['reviews'].apply(subj_txt)\n",
    "dataframe_test.head(2)"
   ]
  },
  {
   "cell_type": "code",
   "execution_count": 343,
   "metadata": {},
   "outputs": [
    {
     "data": {
      "text/plain": [
       "'!\"#$%&\\'()*+,-./:;<=>?@[\\\\]^_`{|}~'"
      ]
     },
     "execution_count": 343,
     "metadata": {},
     "output_type": "execute_result"
    }
   ],
   "source": [
    "import string\n",
    "string.punctuation"
   ]
  },
  {
   "cell_type": "code",
   "execution_count": 344,
   "metadata": {},
   "outputs": [
    {
     "name": "stderr",
     "output_type": "stream",
     "text": [
      "<ipython-input-344-68b6e56549c9>:5: SettingWithCopyWarning: \n",
      "A value is trying to be set on a copy of a slice from a DataFrame.\n",
      "Try using .loc[row_indexer,col_indexer] = value instead\n",
      "\n",
      "See the caveats in the documentation: https://pandas.pydata.org/pandas-docs/stable/user_guide/indexing.html#returning-a-view-versus-a-copy\n",
      "  dataframe_train['punct%'] =  dataframe_train['reviews'].apply(lambda x: count_punct(x))\n"
     ]
    }
   ],
   "source": [
    "def count_punct(text):\n",
    "    count = sum([1 for char in text if char in string.punctuation])\n",
    "    return round(count/(len(text) - text.count(\" \")), 3)\n",
    "\n",
    "dataframe_train['punct%'] =  dataframe_train['reviews'].apply(lambda x: count_punct(x))\n",
    "\n",
    "dataframe_test['punct%'] =  dataframe_test['reviews'].apply(lambda x: count_punct(x))"
   ]
  },
  {
   "cell_type": "code",
   "execution_count": 345,
   "metadata": {},
   "outputs": [
    {
     "name": "stderr",
     "output_type": "stream",
     "text": [
      "<ipython-input-345-b18fe4d28107>:5: SettingWithCopyWarning: \n",
      "A value is trying to be set on a copy of a slice from a DataFrame.\n",
      "Try using .loc[row_indexer,col_indexer] = value instead\n",
      "\n",
      "See the caveats in the documentation: https://pandas.pydata.org/pandas-docs/stable/user_guide/indexing.html#returning-a-view-versus-a-copy\n",
      "  dataframe_train['reviews'] = dataframe_train['reviews'].apply(lambda x: remove_punct(x))\n"
     ]
    },
    {
     "data": {
      "text/html": [
       "<div>\n",
       "<style scoped>\n",
       "    .dataframe tbody tr th:only-of-type {\n",
       "        vertical-align: middle;\n",
       "    }\n",
       "\n",
       "    .dataframe tbody tr th {\n",
       "        vertical-align: top;\n",
       "    }\n",
       "\n",
       "    .dataframe thead th {\n",
       "        text-align: right;\n",
       "    }\n",
       "</style>\n",
       "<table border=\"1\" class=\"dataframe\">\n",
       "  <thead>\n",
       "    <tr style=\"text-align: right;\">\n",
       "      <th></th>\n",
       "      <th>reviews</th>\n",
       "      <th>labels</th>\n",
       "      <th>binary</th>\n",
       "      <th>lenght</th>\n",
       "      <th>polarity</th>\n",
       "      <th>subjectivity</th>\n",
       "      <th>punct%</th>\n",
       "    </tr>\n",
       "  </thead>\n",
       "  <tbody>\n",
       "    <tr>\n",
       "      <th>0</th>\n",
       "      <td>Once again Mr Costner has dragged out a movie ...</td>\n",
       "      <td>2</td>\n",
       "      <td>0</td>\n",
       "      <td>900</td>\n",
       "      <td>0.063860</td>\n",
       "      <td>0.562982</td>\n",
       "      <td>0.027</td>\n",
       "    </tr>\n",
       "    <tr>\n",
       "      <th>1</th>\n",
       "      <td>This is an example of why the majority of acti...</td>\n",
       "      <td>4</td>\n",
       "      <td>0</td>\n",
       "      <td>1311</td>\n",
       "      <td>0.042554</td>\n",
       "      <td>0.387165</td>\n",
       "      <td>0.040</td>\n",
       "    </tr>\n",
       "    <tr>\n",
       "      <th>2</th>\n",
       "      <td>First of all I hate those moronic rappers who ...</td>\n",
       "      <td>1</td>\n",
       "      <td>0</td>\n",
       "      <td>1212</td>\n",
       "      <td>0.000569</td>\n",
       "      <td>0.554710</td>\n",
       "      <td>0.025</td>\n",
       "    </tr>\n",
       "    <tr>\n",
       "      <th>3</th>\n",
       "      <td>Not even the Beatles could write songs everyon...</td>\n",
       "      <td>3</td>\n",
       "      <td>0</td>\n",
       "      <td>1673</td>\n",
       "      <td>0.052206</td>\n",
       "      <td>0.407353</td>\n",
       "      <td>0.029</td>\n",
       "    </tr>\n",
       "    <tr>\n",
       "      <th>4</th>\n",
       "      <td>Brass pictures movies is not a fitting word fo...</td>\n",
       "      <td>3</td>\n",
       "      <td>0</td>\n",
       "      <td>1449</td>\n",
       "      <td>0.086952</td>\n",
       "      <td>0.412810</td>\n",
       "      <td>0.030</td>\n",
       "    </tr>\n",
       "  </tbody>\n",
       "</table>\n",
       "</div>"
      ],
      "text/plain": [
       "                                             reviews  labels  binary  lenght  \\\n",
       "0  Once again Mr Costner has dragged out a movie ...       2       0     900   \n",
       "1  This is an example of why the majority of acti...       4       0    1311   \n",
       "2  First of all I hate those moronic rappers who ...       1       0    1212   \n",
       "3  Not even the Beatles could write songs everyon...       3       0    1673   \n",
       "4  Brass pictures movies is not a fitting word fo...       3       0    1449   \n",
       "\n",
       "   polarity  subjectivity  punct%  \n",
       "0  0.063860      0.562982   0.027  \n",
       "1  0.042554      0.387165   0.040  \n",
       "2  0.000569      0.554710   0.025  \n",
       "3  0.052206      0.407353   0.029  \n",
       "4  0.086952      0.412810   0.030  "
      ]
     },
     "execution_count": 345,
     "metadata": {},
     "output_type": "execute_result"
    }
   ],
   "source": [
    "def remove_punct(text):\n",
    "    text_nopunct = \"\".join([char for char in text if char not in string.punctuation])\n",
    "    return text_nopunct\n",
    "\n",
    "dataframe_train['reviews'] = dataframe_train['reviews'].apply(lambda x: remove_punct(x))\n",
    "dataframe_test['reviews'] = dataframe_test['reviews'].apply(lambda x: remove_punct(x))\n",
    "dataframe_train.head()"
   ]
  },
  {
   "cell_type": "code",
   "execution_count": 346,
   "metadata": {},
   "outputs": [
    {
     "name": "stderr",
     "output_type": "stream",
     "text": [
      "<ipython-input-346-796a30a9f4d5>:8: SettingWithCopyWarning: \n",
      "A value is trying to be set on a copy of a slice from a DataFrame.\n",
      "Try using .loc[row_indexer,col_indexer] = value instead\n",
      "\n",
      "See the caveats in the documentation: https://pandas.pydata.org/pandas-docs/stable/user_guide/indexing.html#returning-a-view-versus-a-copy\n",
      "  dataframe_train['reviews_tok'] = dataframe_train['reviews'].apply(lambda x: tokenize(x.lower()))\n"
     ]
    },
    {
     "data": {
      "text/html": [
       "<div>\n",
       "<style scoped>\n",
       "    .dataframe tbody tr th:only-of-type {\n",
       "        vertical-align: middle;\n",
       "    }\n",
       "\n",
       "    .dataframe tbody tr th {\n",
       "        vertical-align: top;\n",
       "    }\n",
       "\n",
       "    .dataframe thead th {\n",
       "        text-align: right;\n",
       "    }\n",
       "</style>\n",
       "<table border=\"1\" class=\"dataframe\">\n",
       "  <thead>\n",
       "    <tr style=\"text-align: right;\">\n",
       "      <th></th>\n",
       "      <th>reviews</th>\n",
       "      <th>labels</th>\n",
       "      <th>binary</th>\n",
       "      <th>lenght</th>\n",
       "      <th>polarity</th>\n",
       "      <th>subjectivity</th>\n",
       "      <th>punct%</th>\n",
       "      <th>reviews_tok</th>\n",
       "    </tr>\n",
       "  </thead>\n",
       "  <tbody>\n",
       "    <tr>\n",
       "      <th>0</th>\n",
       "      <td>Once again Mr Costner has dragged out a movie ...</td>\n",
       "      <td>2</td>\n",
       "      <td>0</td>\n",
       "      <td>900</td>\n",
       "      <td>0.063860</td>\n",
       "      <td>0.562982</td>\n",
       "      <td>0.027</td>\n",
       "      <td>[once, again, mr, costner, has, dragged, out, ...</td>\n",
       "    </tr>\n",
       "    <tr>\n",
       "      <th>1</th>\n",
       "      <td>This is an example of why the majority of acti...</td>\n",
       "      <td>4</td>\n",
       "      <td>0</td>\n",
       "      <td>1311</td>\n",
       "      <td>0.042554</td>\n",
       "      <td>0.387165</td>\n",
       "      <td>0.040</td>\n",
       "      <td>[this, is, an, example, of, why, the, majority...</td>\n",
       "    </tr>\n",
       "    <tr>\n",
       "      <th>2</th>\n",
       "      <td>First of all I hate those moronic rappers who ...</td>\n",
       "      <td>1</td>\n",
       "      <td>0</td>\n",
       "      <td>1212</td>\n",
       "      <td>0.000569</td>\n",
       "      <td>0.554710</td>\n",
       "      <td>0.025</td>\n",
       "      <td>[first, of, all, i, hate, those, moronic, rapp...</td>\n",
       "    </tr>\n",
       "    <tr>\n",
       "      <th>3</th>\n",
       "      <td>Not even the Beatles could write songs everyon...</td>\n",
       "      <td>3</td>\n",
       "      <td>0</td>\n",
       "      <td>1673</td>\n",
       "      <td>0.052206</td>\n",
       "      <td>0.407353</td>\n",
       "      <td>0.029</td>\n",
       "      <td>[not, even, the, beatles, could, write, songs,...</td>\n",
       "    </tr>\n",
       "    <tr>\n",
       "      <th>4</th>\n",
       "      <td>Brass pictures movies is not a fitting word fo...</td>\n",
       "      <td>3</td>\n",
       "      <td>0</td>\n",
       "      <td>1449</td>\n",
       "      <td>0.086952</td>\n",
       "      <td>0.412810</td>\n",
       "      <td>0.030</td>\n",
       "      <td>[brass, pictures, movies, is, not, a, fitting,...</td>\n",
       "    </tr>\n",
       "  </tbody>\n",
       "</table>\n",
       "</div>"
      ],
      "text/plain": [
       "                                             reviews  labels  binary  lenght  \\\n",
       "0  Once again Mr Costner has dragged out a movie ...       2       0     900   \n",
       "1  This is an example of why the majority of acti...       4       0    1311   \n",
       "2  First of all I hate those moronic rappers who ...       1       0    1212   \n",
       "3  Not even the Beatles could write songs everyon...       3       0    1673   \n",
       "4  Brass pictures movies is not a fitting word fo...       3       0    1449   \n",
       "\n",
       "   polarity  subjectivity  punct%  \\\n",
       "0  0.063860      0.562982   0.027   \n",
       "1  0.042554      0.387165   0.040   \n",
       "2  0.000569      0.554710   0.025   \n",
       "3  0.052206      0.407353   0.029   \n",
       "4  0.086952      0.412810   0.030   \n",
       "\n",
       "                                         reviews_tok  \n",
       "0  [once, again, mr, costner, has, dragged, out, ...  \n",
       "1  [this, is, an, example, of, why, the, majority...  \n",
       "2  [first, of, all, i, hate, those, moronic, rapp...  \n",
       "3  [not, even, the, beatles, could, write, songs,...  \n",
       "4  [brass, pictures, movies, is, not, a, fitting,...  "
      ]
     },
     "execution_count": 346,
     "metadata": {},
     "output_type": "execute_result"
    }
   ],
   "source": [
    "import re\n",
    "\n",
    "# Function to Tokenize words\n",
    "def tokenize(text):\n",
    "    tokens = re.split('\\W+', text) \n",
    "    return tokens\n",
    "\n",
    "dataframe_train['reviews_tok'] = dataframe_train['reviews'].apply(lambda x: tokenize(x.lower())) \n",
    " \n",
    "dataframe_test['reviews_tok'] = dataframe_test['reviews'].apply(lambda x: tokenize(x.lower())) \n",
    "\n",
    "dataframe_train.head()"
   ]
  },
  {
   "cell_type": "code",
   "execution_count": 347,
   "metadata": {},
   "outputs": [],
   "source": [
    "import nltk\n",
    "\n",
    "stopword = nltk.corpus.stopwords.words('english')# All English Stopwords\n"
   ]
  },
  {
   "cell_type": "code",
   "execution_count": 348,
   "metadata": {},
   "outputs": [
    {
     "name": "stderr",
     "output_type": "stream",
     "text": [
      "<ipython-input-348-19e13010008d>:6: SettingWithCopyWarning: \n",
      "A value is trying to be set on a copy of a slice from a DataFrame.\n",
      "Try using .loc[row_indexer,col_indexer] = value instead\n",
      "\n",
      "See the caveats in the documentation: https://pandas.pydata.org/pandas-docs/stable/user_guide/indexing.html#returning-a-view-versus-a-copy\n",
      "  dataframe_train['reviews_tok'] = dataframe_train['reviews_tok'].apply(lambda x: remove_stopwords(x))\n"
     ]
    },
    {
     "data": {
      "text/html": [
       "<div>\n",
       "<style scoped>\n",
       "    .dataframe tbody tr th:only-of-type {\n",
       "        vertical-align: middle;\n",
       "    }\n",
       "\n",
       "    .dataframe tbody tr th {\n",
       "        vertical-align: top;\n",
       "    }\n",
       "\n",
       "    .dataframe thead th {\n",
       "        text-align: right;\n",
       "    }\n",
       "</style>\n",
       "<table border=\"1\" class=\"dataframe\">\n",
       "  <thead>\n",
       "    <tr style=\"text-align: right;\">\n",
       "      <th></th>\n",
       "      <th>reviews</th>\n",
       "      <th>labels</th>\n",
       "      <th>binary</th>\n",
       "      <th>lenght</th>\n",
       "      <th>polarity</th>\n",
       "      <th>subjectivity</th>\n",
       "      <th>punct%</th>\n",
       "      <th>reviews_tok</th>\n",
       "    </tr>\n",
       "  </thead>\n",
       "  <tbody>\n",
       "    <tr>\n",
       "      <th>0</th>\n",
       "      <td>Once again Mr Costner has dragged out a movie ...</td>\n",
       "      <td>2</td>\n",
       "      <td>0</td>\n",
       "      <td>900</td>\n",
       "      <td>0.063860</td>\n",
       "      <td>0.562982</td>\n",
       "      <td>0.027</td>\n",
       "      <td>[mr, costner, dragged, movie, far, longer, nec...</td>\n",
       "    </tr>\n",
       "    <tr>\n",
       "      <th>1</th>\n",
       "      <td>This is an example of why the majority of acti...</td>\n",
       "      <td>4</td>\n",
       "      <td>0</td>\n",
       "      <td>1311</td>\n",
       "      <td>0.042554</td>\n",
       "      <td>0.387165</td>\n",
       "      <td>0.040</td>\n",
       "      <td>[example, majority, action, films, generic, bo...</td>\n",
       "    </tr>\n",
       "    <tr>\n",
       "      <th>2</th>\n",
       "      <td>First of all I hate those moronic rappers who ...</td>\n",
       "      <td>1</td>\n",
       "      <td>0</td>\n",
       "      <td>1212</td>\n",
       "      <td>0.000569</td>\n",
       "      <td>0.554710</td>\n",
       "      <td>0.025</td>\n",
       "      <td>[first, hate, moronic, rappers, couldnt, act, ...</td>\n",
       "    </tr>\n",
       "    <tr>\n",
       "      <th>3</th>\n",
       "      <td>Not even the Beatles could write songs everyon...</td>\n",
       "      <td>3</td>\n",
       "      <td>0</td>\n",
       "      <td>1673</td>\n",
       "      <td>0.052206</td>\n",
       "      <td>0.407353</td>\n",
       "      <td>0.029</td>\n",
       "      <td>[even, beatles, could, write, songs, everyone,...</td>\n",
       "    </tr>\n",
       "    <tr>\n",
       "      <th>4</th>\n",
       "      <td>Brass pictures movies is not a fitting word fo...</td>\n",
       "      <td>3</td>\n",
       "      <td>0</td>\n",
       "      <td>1449</td>\n",
       "      <td>0.086952</td>\n",
       "      <td>0.412810</td>\n",
       "      <td>0.030</td>\n",
       "      <td>[brass, pictures, movies, fitting, word, reall...</td>\n",
       "    </tr>\n",
       "  </tbody>\n",
       "</table>\n",
       "</div>"
      ],
      "text/plain": [
       "                                             reviews  labels  binary  lenght  \\\n",
       "0  Once again Mr Costner has dragged out a movie ...       2       0     900   \n",
       "1  This is an example of why the majority of acti...       4       0    1311   \n",
       "2  First of all I hate those moronic rappers who ...       1       0    1212   \n",
       "3  Not even the Beatles could write songs everyon...       3       0    1673   \n",
       "4  Brass pictures movies is not a fitting word fo...       3       0    1449   \n",
       "\n",
       "   polarity  subjectivity  punct%  \\\n",
       "0  0.063860      0.562982   0.027   \n",
       "1  0.042554      0.387165   0.040   \n",
       "2  0.000569      0.554710   0.025   \n",
       "3  0.052206      0.407353   0.029   \n",
       "4  0.086952      0.412810   0.030   \n",
       "\n",
       "                                         reviews_tok  \n",
       "0  [mr, costner, dragged, movie, far, longer, nec...  \n",
       "1  [example, majority, action, films, generic, bo...  \n",
       "2  [first, hate, moronic, rappers, couldnt, act, ...  \n",
       "3  [even, beatles, could, write, songs, everyone,...  \n",
       "4  [brass, pictures, movies, fitting, word, reall...  "
      ]
     },
     "execution_count": 348,
     "metadata": {},
     "output_type": "execute_result"
    }
   ],
   "source": [
    "\n",
    "# Function to remove Stopwords\n",
    "def remove_stopwords(tokenized_list):\n",
    "    text = [word for word in tokenized_list if word not in stopword]# To remove all stopwords\n",
    "    return text\n",
    "\n",
    "dataframe_train['reviews_tok'] = dataframe_train['reviews_tok'].apply(lambda x: remove_stopwords(x))\n",
    "dataframe_test['reviews_tok'] = dataframe_test['reviews_tok'].apply(lambda x: remove_stopwords(x))\n",
    "dataframe_train.head()"
   ]
  },
  {
   "cell_type": "code",
   "execution_count": 349,
   "metadata": {},
   "outputs": [
    {
     "name": "stderr",
     "output_type": "stream",
     "text": [
      "<ipython-input-349-3ec6c611c911>:7: SettingWithCopyWarning: \n",
      "A value is trying to be set on a copy of a slice from a DataFrame.\n",
      "Try using .loc[row_indexer,col_indexer] = value instead\n",
      "\n",
      "See the caveats in the documentation: https://pandas.pydata.org/pandas-docs/stable/user_guide/indexing.html#returning-a-view-versus-a-copy\n",
      "  dataframe_train['reviews_tok'] = dataframe_train['reviews_tok'].apply(lambda x: stemming(x))\n"
     ]
    },
    {
     "data": {
      "text/html": [
       "<div>\n",
       "<style scoped>\n",
       "    .dataframe tbody tr th:only-of-type {\n",
       "        vertical-align: middle;\n",
       "    }\n",
       "\n",
       "    .dataframe tbody tr th {\n",
       "        vertical-align: top;\n",
       "    }\n",
       "\n",
       "    .dataframe thead th {\n",
       "        text-align: right;\n",
       "    }\n",
       "</style>\n",
       "<table border=\"1\" class=\"dataframe\">\n",
       "  <thead>\n",
       "    <tr style=\"text-align: right;\">\n",
       "      <th></th>\n",
       "      <th>reviews</th>\n",
       "      <th>labels</th>\n",
       "      <th>binary</th>\n",
       "      <th>lenght</th>\n",
       "      <th>polarity</th>\n",
       "      <th>subjectivity</th>\n",
       "      <th>punct%</th>\n",
       "      <th>reviews_tok</th>\n",
       "    </tr>\n",
       "  </thead>\n",
       "  <tbody>\n",
       "    <tr>\n",
       "      <th>0</th>\n",
       "      <td>Once again Mr Costner has dragged out a movie ...</td>\n",
       "      <td>2</td>\n",
       "      <td>0</td>\n",
       "      <td>900</td>\n",
       "      <td>0.063860</td>\n",
       "      <td>0.562982</td>\n",
       "      <td>0.027</td>\n",
       "      <td>[mr, costner, drag, movi, far, longer, necessa...</td>\n",
       "    </tr>\n",
       "    <tr>\n",
       "      <th>1</th>\n",
       "      <td>This is an example of why the majority of acti...</td>\n",
       "      <td>4</td>\n",
       "      <td>0</td>\n",
       "      <td>1311</td>\n",
       "      <td>0.042554</td>\n",
       "      <td>0.387165</td>\n",
       "      <td>0.040</td>\n",
       "      <td>[exampl, major, action, film, gener, bore, the...</td>\n",
       "    </tr>\n",
       "    <tr>\n",
       "      <th>2</th>\n",
       "      <td>First of all I hate those moronic rappers who ...</td>\n",
       "      <td>1</td>\n",
       "      <td>0</td>\n",
       "      <td>1212</td>\n",
       "      <td>0.000569</td>\n",
       "      <td>0.554710</td>\n",
       "      <td>0.025</td>\n",
       "      <td>[first, hate, moron, rapper, couldnt, act, gun...</td>\n",
       "    </tr>\n",
       "    <tr>\n",
       "      <th>3</th>\n",
       "      <td>Not even the Beatles could write songs everyon...</td>\n",
       "      <td>3</td>\n",
       "      <td>0</td>\n",
       "      <td>1673</td>\n",
       "      <td>0.052206</td>\n",
       "      <td>0.407353</td>\n",
       "      <td>0.029</td>\n",
       "      <td>[even, beatl, could, write, song, everyon, lik...</td>\n",
       "    </tr>\n",
       "    <tr>\n",
       "      <th>4</th>\n",
       "      <td>Brass pictures movies is not a fitting word fo...</td>\n",
       "      <td>3</td>\n",
       "      <td>0</td>\n",
       "      <td>1449</td>\n",
       "      <td>0.086952</td>\n",
       "      <td>0.412810</td>\n",
       "      <td>0.030</td>\n",
       "      <td>[brass, pictur, movi, fit, word, realli, somew...</td>\n",
       "    </tr>\n",
       "  </tbody>\n",
       "</table>\n",
       "</div>"
      ],
      "text/plain": [
       "                                             reviews  labels  binary  lenght  \\\n",
       "0  Once again Mr Costner has dragged out a movie ...       2       0     900   \n",
       "1  This is an example of why the majority of acti...       4       0    1311   \n",
       "2  First of all I hate those moronic rappers who ...       1       0    1212   \n",
       "3  Not even the Beatles could write songs everyon...       3       0    1673   \n",
       "4  Brass pictures movies is not a fitting word fo...       3       0    1449   \n",
       "\n",
       "   polarity  subjectivity  punct%  \\\n",
       "0  0.063860      0.562982   0.027   \n",
       "1  0.042554      0.387165   0.040   \n",
       "2  0.000569      0.554710   0.025   \n",
       "3  0.052206      0.407353   0.029   \n",
       "4  0.086952      0.412810   0.030   \n",
       "\n",
       "                                         reviews_tok  \n",
       "0  [mr, costner, drag, movi, far, longer, necessa...  \n",
       "1  [exampl, major, action, film, gener, bore, the...  \n",
       "2  [first, hate, moron, rapper, couldnt, act, gun...  \n",
       "3  [even, beatl, could, write, song, everyon, lik...  \n",
       "4  [brass, pictur, movi, fit, word, realli, somew...  "
      ]
     },
     "execution_count": 349,
     "metadata": {},
     "output_type": "execute_result"
    }
   ],
   "source": [
    "ps = nltk.PorterStemmer()\n",
    "\n",
    "def stemming(tokenized_text):\n",
    "    text = [ps.stem(word) for word in tokenized_text]\n",
    "    return text\n",
    "\n",
    "dataframe_train['reviews_tok'] = dataframe_train['reviews_tok'].apply(lambda x: stemming(x))\n",
    "\n",
    "dataframe_test['reviews_tok'] = dataframe_test['reviews_tok'].apply(lambda x: stemming(x))\n",
    "\n",
    "dataframe_train.head()"
   ]
  },
  {
   "cell_type": "code",
   "execution_count": 350,
   "metadata": {},
   "outputs": [
    {
     "data": {
      "text/html": [
       "<div>\n",
       "<style scoped>\n",
       "    .dataframe tbody tr th:only-of-type {\n",
       "        vertical-align: middle;\n",
       "    }\n",
       "\n",
       "    .dataframe tbody tr th {\n",
       "        vertical-align: top;\n",
       "    }\n",
       "\n",
       "    .dataframe thead th {\n",
       "        text-align: right;\n",
       "    }\n",
       "</style>\n",
       "<table border=\"1\" class=\"dataframe\">\n",
       "  <thead>\n",
       "    <tr style=\"text-align: right;\">\n",
       "      <th></th>\n",
       "      <th>reviews</th>\n",
       "      <th>labels</th>\n",
       "      <th>binary</th>\n",
       "      <th>lenght</th>\n",
       "      <th>polarity</th>\n",
       "      <th>subjectivity</th>\n",
       "      <th>punct%</th>\n",
       "      <th>reviews_tok</th>\n",
       "    </tr>\n",
       "  </thead>\n",
       "  <tbody>\n",
       "    <tr>\n",
       "      <th>0</th>\n",
       "      <td>Once again Mr Costner has dragged out a movie ...</td>\n",
       "      <td>2</td>\n",
       "      <td>0</td>\n",
       "      <td>900</td>\n",
       "      <td>0.063860</td>\n",
       "      <td>0.562982</td>\n",
       "      <td>0.027</td>\n",
       "      <td>[mr, costner, drag, movi, far, longer, necessa...</td>\n",
       "    </tr>\n",
       "    <tr>\n",
       "      <th>1</th>\n",
       "      <td>This is an example of why the majority of acti...</td>\n",
       "      <td>4</td>\n",
       "      <td>0</td>\n",
       "      <td>1311</td>\n",
       "      <td>0.042554</td>\n",
       "      <td>0.387165</td>\n",
       "      <td>0.040</td>\n",
       "      <td>[exampl, major, action, film, gener, bore, the...</td>\n",
       "    </tr>\n",
       "    <tr>\n",
       "      <th>2</th>\n",
       "      <td>First of all I hate those moronic rappers who ...</td>\n",
       "      <td>1</td>\n",
       "      <td>0</td>\n",
       "      <td>1212</td>\n",
       "      <td>0.000569</td>\n",
       "      <td>0.554710</td>\n",
       "      <td>0.025</td>\n",
       "      <td>[first, hate, moron, rapper, couldnt, act, gun...</td>\n",
       "    </tr>\n",
       "    <tr>\n",
       "      <th>3</th>\n",
       "      <td>Not even the Beatles could write songs everyon...</td>\n",
       "      <td>3</td>\n",
       "      <td>0</td>\n",
       "      <td>1673</td>\n",
       "      <td>0.052206</td>\n",
       "      <td>0.407353</td>\n",
       "      <td>0.029</td>\n",
       "      <td>[even, beatl, could, write, song, everyon, lik...</td>\n",
       "    </tr>\n",
       "    <tr>\n",
       "      <th>4</th>\n",
       "      <td>Brass pictures movies is not a fitting word fo...</td>\n",
       "      <td>3</td>\n",
       "      <td>0</td>\n",
       "      <td>1449</td>\n",
       "      <td>0.086952</td>\n",
       "      <td>0.412810</td>\n",
       "      <td>0.030</td>\n",
       "      <td>[brass, pictur, movi, fit, word, realli, somew...</td>\n",
       "    </tr>\n",
       "    <tr>\n",
       "      <th>...</th>\n",
       "      <td>...</td>\n",
       "      <td>...</td>\n",
       "      <td>...</td>\n",
       "      <td>...</td>\n",
       "      <td>...</td>\n",
       "      <td>...</td>\n",
       "      <td>...</td>\n",
       "      <td>...</td>\n",
       "    </tr>\n",
       "    <tr>\n",
       "      <th>24995</th>\n",
       "      <td>I was extraordinarily impressed by this film I...</td>\n",
       "      <td>8</td>\n",
       "      <td>1</td>\n",
       "      <td>679</td>\n",
       "      <td>0.456667</td>\n",
       "      <td>0.605556</td>\n",
       "      <td>0.030</td>\n",
       "      <td>[extraordinarili, impress, film, one, best, sp...</td>\n",
       "    </tr>\n",
       "    <tr>\n",
       "      <th>24996</th>\n",
       "      <td>Although Im not a golf fan I attended a sneak ...</td>\n",
       "      <td>10</td>\n",
       "      <td>0</td>\n",
       "      <td>659</td>\n",
       "      <td>0.098039</td>\n",
       "      <td>0.605882</td>\n",
       "      <td>0.033</td>\n",
       "      <td>[although, im, golf, fan, attend, sneak, previ...</td>\n",
       "    </tr>\n",
       "    <tr>\n",
       "      <th>24997</th>\n",
       "      <td>From the start of The Edge Of Love the viewer ...</td>\n",
       "      <td>8</td>\n",
       "      <td>1</td>\n",
       "      <td>3963</td>\n",
       "      <td>0.244534</td>\n",
       "      <td>0.494915</td>\n",
       "      <td>0.041</td>\n",
       "      <td>[start, edg, love, viewer, transport, strike, ...</td>\n",
       "    </tr>\n",
       "    <tr>\n",
       "      <th>24998</th>\n",
       "      <td>This movie with all its complexity and subtlet...</td>\n",
       "      <td>10</td>\n",
       "      <td>0</td>\n",
       "      <td>905</td>\n",
       "      <td>0.246374</td>\n",
       "      <td>0.594210</td>\n",
       "      <td>0.037</td>\n",
       "      <td>[movi, complex, subtleti, make, one, thoughtpr...</td>\n",
       "    </tr>\n",
       "    <tr>\n",
       "      <th>24999</th>\n",
       "      <td>Ive seen this story before but my kids havent ...</td>\n",
       "      <td>7</td>\n",
       "      <td>1</td>\n",
       "      <td>1235</td>\n",
       "      <td>-0.022123</td>\n",
       "      <td>0.529167</td>\n",
       "      <td>0.023</td>\n",
       "      <td>[ive, seen, stori, kid, havent, boy, troubl, p...</td>\n",
       "    </tr>\n",
       "  </tbody>\n",
       "</table>\n",
       "<p>24804 rows × 8 columns</p>\n",
       "</div>"
      ],
      "text/plain": [
       "                                                 reviews  labels  binary  \\\n",
       "0      Once again Mr Costner has dragged out a movie ...       2       0   \n",
       "1      This is an example of why the majority of acti...       4       0   \n",
       "2      First of all I hate those moronic rappers who ...       1       0   \n",
       "3      Not even the Beatles could write songs everyon...       3       0   \n",
       "4      Brass pictures movies is not a fitting word fo...       3       0   \n",
       "...                                                  ...     ...     ...   \n",
       "24995  I was extraordinarily impressed by this film I...       8       1   \n",
       "24996  Although Im not a golf fan I attended a sneak ...      10       0   \n",
       "24997  From the start of The Edge Of Love the viewer ...       8       1   \n",
       "24998  This movie with all its complexity and subtlet...      10       0   \n",
       "24999  Ive seen this story before but my kids havent ...       7       1   \n",
       "\n",
       "       lenght  polarity  subjectivity  punct%  \\\n",
       "0         900  0.063860      0.562982   0.027   \n",
       "1        1311  0.042554      0.387165   0.040   \n",
       "2        1212  0.000569      0.554710   0.025   \n",
       "3        1673  0.052206      0.407353   0.029   \n",
       "4        1449  0.086952      0.412810   0.030   \n",
       "...       ...       ...           ...     ...   \n",
       "24995     679  0.456667      0.605556   0.030   \n",
       "24996     659  0.098039      0.605882   0.033   \n",
       "24997    3963  0.244534      0.494915   0.041   \n",
       "24998     905  0.246374      0.594210   0.037   \n",
       "24999    1235 -0.022123      0.529167   0.023   \n",
       "\n",
       "                                             reviews_tok  \n",
       "0      [mr, costner, drag, movi, far, longer, necessa...  \n",
       "1      [exampl, major, action, film, gener, bore, the...  \n",
       "2      [first, hate, moron, rapper, couldnt, act, gun...  \n",
       "3      [even, beatl, could, write, song, everyon, lik...  \n",
       "4      [brass, pictur, movi, fit, word, realli, somew...  \n",
       "...                                                  ...  \n",
       "24995  [extraordinarili, impress, film, one, best, sp...  \n",
       "24996  [although, im, golf, fan, attend, sneak, previ...  \n",
       "24997  [start, edg, love, viewer, transport, strike, ...  \n",
       "24998  [movi, complex, subtleti, make, one, thoughtpr...  \n",
       "24999  [ive, seen, stori, kid, havent, boy, troubl, p...  \n",
       "\n",
       "[24804 rows x 8 columns]"
      ]
     },
     "execution_count": 350,
     "metadata": {},
     "output_type": "execute_result"
    }
   ],
   "source": [
    "dataframe_train"
   ]
  },
  {
   "cell_type": "code",
   "execution_count": 351,
   "metadata": {},
   "outputs": [
    {
     "data": {
      "text/html": [
       "<div>\n",
       "<style scoped>\n",
       "    .dataframe tbody tr th:only-of-type {\n",
       "        vertical-align: middle;\n",
       "    }\n",
       "\n",
       "    .dataframe tbody tr th {\n",
       "        vertical-align: top;\n",
       "    }\n",
       "\n",
       "    .dataframe thead th {\n",
       "        text-align: right;\n",
       "    }\n",
       "</style>\n",
       "<table border=\"1\" class=\"dataframe\">\n",
       "  <thead>\n",
       "    <tr style=\"text-align: right;\">\n",
       "      <th></th>\n",
       "      <th>reviews</th>\n",
       "      <th>labels</th>\n",
       "      <th>binary</th>\n",
       "      <th>lenght</th>\n",
       "      <th>polarity</th>\n",
       "      <th>subjectivity</th>\n",
       "      <th>punct%</th>\n",
       "      <th>reviews_tok</th>\n",
       "    </tr>\n",
       "  </thead>\n",
       "  <tbody>\n",
       "    <tr>\n",
       "      <th>0</th>\n",
       "      <td>Once again Mr Costner has dragged out a movie ...</td>\n",
       "      <td>2</td>\n",
       "      <td>0</td>\n",
       "      <td>900</td>\n",
       "      <td>0.063860</td>\n",
       "      <td>0.562982</td>\n",
       "      <td>0.027</td>\n",
       "      <td>[mr, costner, drag, movi, far, longer, necessa...</td>\n",
       "    </tr>\n",
       "    <tr>\n",
       "      <th>1</th>\n",
       "      <td>This is an example of why the majority of acti...</td>\n",
       "      <td>4</td>\n",
       "      <td>0</td>\n",
       "      <td>1311</td>\n",
       "      <td>0.042554</td>\n",
       "      <td>0.387165</td>\n",
       "      <td>0.040</td>\n",
       "      <td>[exampl, major, action, film, gener, bore, the...</td>\n",
       "    </tr>\n",
       "    <tr>\n",
       "      <th>2</th>\n",
       "      <td>First of all I hate those moronic rappers who ...</td>\n",
       "      <td>1</td>\n",
       "      <td>0</td>\n",
       "      <td>1212</td>\n",
       "      <td>0.000569</td>\n",
       "      <td>0.554710</td>\n",
       "      <td>0.025</td>\n",
       "      <td>[first, hate, moron, rapper, couldnt, act, gun...</td>\n",
       "    </tr>\n",
       "    <tr>\n",
       "      <th>3</th>\n",
       "      <td>Not even the Beatles could write songs everyon...</td>\n",
       "      <td>3</td>\n",
       "      <td>0</td>\n",
       "      <td>1673</td>\n",
       "      <td>0.052206</td>\n",
       "      <td>0.407353</td>\n",
       "      <td>0.029</td>\n",
       "      <td>[even, beatl, could, write, song, everyon, lik...</td>\n",
       "    </tr>\n",
       "    <tr>\n",
       "      <th>4</th>\n",
       "      <td>Brass pictures movies is not a fitting word fo...</td>\n",
       "      <td>3</td>\n",
       "      <td>0</td>\n",
       "      <td>1449</td>\n",
       "      <td>0.086952</td>\n",
       "      <td>0.412810</td>\n",
       "      <td>0.030</td>\n",
       "      <td>[brass, pictur, movi, fit, word, realli, somew...</td>\n",
       "    </tr>\n",
       "    <tr>\n",
       "      <th>...</th>\n",
       "      <td>...</td>\n",
       "      <td>...</td>\n",
       "      <td>...</td>\n",
       "      <td>...</td>\n",
       "      <td>...</td>\n",
       "      <td>...</td>\n",
       "      <td>...</td>\n",
       "      <td>...</td>\n",
       "    </tr>\n",
       "    <tr>\n",
       "      <th>24995</th>\n",
       "      <td>I was extraordinarily impressed by this film I...</td>\n",
       "      <td>8</td>\n",
       "      <td>1</td>\n",
       "      <td>679</td>\n",
       "      <td>0.456667</td>\n",
       "      <td>0.605556</td>\n",
       "      <td>0.030</td>\n",
       "      <td>[extraordinarili, impress, film, one, best, sp...</td>\n",
       "    </tr>\n",
       "    <tr>\n",
       "      <th>24996</th>\n",
       "      <td>Although Im not a golf fan I attended a sneak ...</td>\n",
       "      <td>10</td>\n",
       "      <td>0</td>\n",
       "      <td>659</td>\n",
       "      <td>0.098039</td>\n",
       "      <td>0.605882</td>\n",
       "      <td>0.033</td>\n",
       "      <td>[although, im, golf, fan, attend, sneak, previ...</td>\n",
       "    </tr>\n",
       "    <tr>\n",
       "      <th>24997</th>\n",
       "      <td>From the start of The Edge Of Love the viewer ...</td>\n",
       "      <td>8</td>\n",
       "      <td>1</td>\n",
       "      <td>3963</td>\n",
       "      <td>0.244534</td>\n",
       "      <td>0.494915</td>\n",
       "      <td>0.041</td>\n",
       "      <td>[start, edg, love, viewer, transport, strike, ...</td>\n",
       "    </tr>\n",
       "    <tr>\n",
       "      <th>24998</th>\n",
       "      <td>This movie with all its complexity and subtlet...</td>\n",
       "      <td>10</td>\n",
       "      <td>0</td>\n",
       "      <td>905</td>\n",
       "      <td>0.246374</td>\n",
       "      <td>0.594210</td>\n",
       "      <td>0.037</td>\n",
       "      <td>[movi, complex, subtleti, make, one, thoughtpr...</td>\n",
       "    </tr>\n",
       "    <tr>\n",
       "      <th>24999</th>\n",
       "      <td>Ive seen this story before but my kids havent ...</td>\n",
       "      <td>7</td>\n",
       "      <td>1</td>\n",
       "      <td>1235</td>\n",
       "      <td>-0.022123</td>\n",
       "      <td>0.529167</td>\n",
       "      <td>0.023</td>\n",
       "      <td>[ive, seen, stori, kid, havent, boy, troubl, p...</td>\n",
       "    </tr>\n",
       "  </tbody>\n",
       "</table>\n",
       "<p>25000 rows × 8 columns</p>\n",
       "</div>"
      ],
      "text/plain": [
       "                                                 reviews  labels  binary  \\\n",
       "0      Once again Mr Costner has dragged out a movie ...       2       0   \n",
       "1      This is an example of why the majority of acti...       4       0   \n",
       "2      First of all I hate those moronic rappers who ...       1       0   \n",
       "3      Not even the Beatles could write songs everyon...       3       0   \n",
       "4      Brass pictures movies is not a fitting word fo...       3       0   \n",
       "...                                                  ...     ...     ...   \n",
       "24995  I was extraordinarily impressed by this film I...       8       1   \n",
       "24996  Although Im not a golf fan I attended a sneak ...      10       0   \n",
       "24997  From the start of The Edge Of Love the viewer ...       8       1   \n",
       "24998  This movie with all its complexity and subtlet...      10       0   \n",
       "24999  Ive seen this story before but my kids havent ...       7       1   \n",
       "\n",
       "       lenght  polarity  subjectivity  punct%  \\\n",
       "0         900  0.063860      0.562982   0.027   \n",
       "1        1311  0.042554      0.387165   0.040   \n",
       "2        1212  0.000569      0.554710   0.025   \n",
       "3        1673  0.052206      0.407353   0.029   \n",
       "4        1449  0.086952      0.412810   0.030   \n",
       "...       ...       ...           ...     ...   \n",
       "24995     679  0.456667      0.605556   0.030   \n",
       "24996     659  0.098039      0.605882   0.033   \n",
       "24997    3963  0.244534      0.494915   0.041   \n",
       "24998     905  0.246374      0.594210   0.037   \n",
       "24999    1235 -0.022123      0.529167   0.023   \n",
       "\n",
       "                                             reviews_tok  \n",
       "0      [mr, costner, drag, movi, far, longer, necessa...  \n",
       "1      [exampl, major, action, film, gener, bore, the...  \n",
       "2      [first, hate, moron, rapper, couldnt, act, gun...  \n",
       "3      [even, beatl, could, write, song, everyon, lik...  \n",
       "4      [brass, pictur, movi, fit, word, realli, somew...  \n",
       "...                                                  ...  \n",
       "24995  [extraordinarili, impress, film, one, best, sp...  \n",
       "24996  [although, im, golf, fan, attend, sneak, previ...  \n",
       "24997  [start, edg, love, viewer, transport, strike, ...  \n",
       "24998  [movi, complex, subtleti, make, one, thoughtpr...  \n",
       "24999  [ive, seen, stori, kid, havent, boy, troubl, p...  \n",
       "\n",
       "[25000 rows x 8 columns]"
      ]
     },
     "execution_count": 351,
     "metadata": {},
     "output_type": "execute_result"
    }
   ],
   "source": [
    "dataframe_test"
   ]
  },
  {
   "cell_type": "code",
   "execution_count": 352,
   "metadata": {},
   "outputs": [
    {
     "data": {
      "text/plain": [
       "10    4966\n",
       "1     4948\n",
       "8     2842\n",
       "4     2619\n",
       "3     2514\n",
       "9     2339\n",
       "7     2296\n",
       "2     2280\n",
       "Name: labels, dtype: int64"
      ]
     },
     "execution_count": 352,
     "metadata": {},
     "output_type": "execute_result"
    }
   ],
   "source": [
    "dataframe_train['labels'].value_counts()"
   ]
  },
  {
   "cell_type": "code",
   "execution_count": 353,
   "metadata": {},
   "outputs": [
    {
     "data": {
      "text/plain": [
       "1     5022\n",
       "10    4999\n",
       "8     2850\n",
       "4     2635\n",
       "3     2541\n",
       "9     2344\n",
       "7     2307\n",
       "2     2302\n",
       "Name: labels, dtype: int64"
      ]
     },
     "execution_count": 353,
     "metadata": {},
     "output_type": "execute_result"
    }
   ],
   "source": [
    "dataframe_test['labels'].value_counts()"
   ]
  },
  {
   "cell_type": "code",
   "execution_count": 354,
   "metadata": {},
   "outputs": [
    {
     "name": "stderr",
     "output_type": "stream",
     "text": [
      "D:\\Anaconda\\envs\\name_X\\lib\\site-packages\\pandas\\core\\generic.py:5494: SettingWithCopyWarning: \n",
      "A value is trying to be set on a copy of a slice from a DataFrame.\n",
      "Try using .loc[row_indexer,col_indexer] = value instead\n",
      "\n",
      "See the caveats in the documentation: https://pandas.pydata.org/pandas-docs/stable/user_guide/indexing.html#returning-a-view-versus-a-copy\n",
      "  self[name] = value\n"
     ]
    }
   ],
   "source": [
    "dataframe_train.lenght=dataframe_train.lenght/dataframe_train.lenght.max()"
   ]
  },
  {
   "cell_type": "code",
   "execution_count": 355,
   "metadata": {},
   "outputs": [],
   "source": [
    "dataframe_test.lenght=dataframe_test.lenght/dataframe_test.lenght.max()"
   ]
  },
  {
   "cell_type": "code",
   "execution_count": 356,
   "metadata": {},
   "outputs": [],
   "source": [
    "import nltk\n",
    "from nltk.stem import WordNetLemmatizer \n",
    "lemmatizer = WordNetLemmatizer()\n",
    "\n",
    "def clean_text(text):\n",
    "    text = \"\".join([word.lower() for word in text if word not in string.punctuation])\n",
    "    tokens = re.split('\\W+', text)\n",
    "    text = [lemmatizer.lemmatize(word) for word in tokens if word not in stopword]\n",
    "    return str(text)"
   ]
  },
  {
   "cell_type": "code",
   "execution_count": 357,
   "metadata": {},
   "outputs": [],
   "source": [
    "\n",
    "\n",
    "x_train = dataframe_train[['reviews','polarity', 'subjectivity','lenght','punct%','binary']]\n",
    "x_test = dataframe_test[['reviews','polarity', 'subjectivity','lenght','punct%','binary']]\n",
    "y_train=dataframe_train.labels\n",
    "y_test=dataframe_test.labels\n",
    "\n",
    "\n"
   ]
  },
  {
   "cell_type": "code",
   "execution_count": 358,
   "metadata": {},
   "outputs": [
    {
     "data": {
      "text/html": [
       "<div>\n",
       "<style scoped>\n",
       "    .dataframe tbody tr th:only-of-type {\n",
       "        vertical-align: middle;\n",
       "    }\n",
       "\n",
       "    .dataframe tbody tr th {\n",
       "        vertical-align: top;\n",
       "    }\n",
       "\n",
       "    .dataframe thead th {\n",
       "        text-align: right;\n",
       "    }\n",
       "</style>\n",
       "<table border=\"1\" class=\"dataframe\">\n",
       "  <thead>\n",
       "    <tr style=\"text-align: right;\">\n",
       "      <th></th>\n",
       "      <th>reviews</th>\n",
       "      <th>polarity</th>\n",
       "      <th>subjectivity</th>\n",
       "      <th>lenght</th>\n",
       "      <th>punct%</th>\n",
       "      <th>binary</th>\n",
       "    </tr>\n",
       "  </thead>\n",
       "  <tbody>\n",
       "    <tr>\n",
       "      <th>0</th>\n",
       "      <td>Once again Mr Costner has dragged out a movie ...</td>\n",
       "      <td>0.063860</td>\n",
       "      <td>0.562982</td>\n",
       "      <td>0.070922</td>\n",
       "      <td>0.027</td>\n",
       "      <td>0</td>\n",
       "    </tr>\n",
       "    <tr>\n",
       "      <th>1</th>\n",
       "      <td>This is an example of why the majority of acti...</td>\n",
       "      <td>0.042554</td>\n",
       "      <td>0.387165</td>\n",
       "      <td>0.103310</td>\n",
       "      <td>0.040</td>\n",
       "      <td>0</td>\n",
       "    </tr>\n",
       "    <tr>\n",
       "      <th>2</th>\n",
       "      <td>First of all I hate those moronic rappers who ...</td>\n",
       "      <td>0.000569</td>\n",
       "      <td>0.554710</td>\n",
       "      <td>0.095508</td>\n",
       "      <td>0.025</td>\n",
       "      <td>0</td>\n",
       "    </tr>\n",
       "    <tr>\n",
       "      <th>3</th>\n",
       "      <td>Not even the Beatles could write songs everyon...</td>\n",
       "      <td>0.052206</td>\n",
       "      <td>0.407353</td>\n",
       "      <td>0.131836</td>\n",
       "      <td>0.029</td>\n",
       "      <td>0</td>\n",
       "    </tr>\n",
       "    <tr>\n",
       "      <th>4</th>\n",
       "      <td>Brass pictures movies is not a fitting word fo...</td>\n",
       "      <td>0.086952</td>\n",
       "      <td>0.412810</td>\n",
       "      <td>0.114184</td>\n",
       "      <td>0.030</td>\n",
       "      <td>0</td>\n",
       "    </tr>\n",
       "    <tr>\n",
       "      <th>...</th>\n",
       "      <td>...</td>\n",
       "      <td>...</td>\n",
       "      <td>...</td>\n",
       "      <td>...</td>\n",
       "      <td>...</td>\n",
       "      <td>...</td>\n",
       "    </tr>\n",
       "    <tr>\n",
       "      <th>24995</th>\n",
       "      <td>I was extraordinarily impressed by this film I...</td>\n",
       "      <td>0.456667</td>\n",
       "      <td>0.605556</td>\n",
       "      <td>0.053507</td>\n",
       "      <td>0.030</td>\n",
       "      <td>1</td>\n",
       "    </tr>\n",
       "    <tr>\n",
       "      <th>24996</th>\n",
       "      <td>Although Im not a golf fan I attended a sneak ...</td>\n",
       "      <td>0.098039</td>\n",
       "      <td>0.605882</td>\n",
       "      <td>0.051931</td>\n",
       "      <td>0.033</td>\n",
       "      <td>0</td>\n",
       "    </tr>\n",
       "    <tr>\n",
       "      <th>24997</th>\n",
       "      <td>From the start of The Edge Of Love the viewer ...</td>\n",
       "      <td>0.244534</td>\n",
       "      <td>0.494915</td>\n",
       "      <td>0.312293</td>\n",
       "      <td>0.041</td>\n",
       "      <td>1</td>\n",
       "    </tr>\n",
       "    <tr>\n",
       "      <th>24998</th>\n",
       "      <td>This movie with all its complexity and subtlet...</td>\n",
       "      <td>0.246374</td>\n",
       "      <td>0.594210</td>\n",
       "      <td>0.071316</td>\n",
       "      <td>0.037</td>\n",
       "      <td>0</td>\n",
       "    </tr>\n",
       "    <tr>\n",
       "      <th>24999</th>\n",
       "      <td>Ive seen this story before but my kids havent ...</td>\n",
       "      <td>-0.022123</td>\n",
       "      <td>0.529167</td>\n",
       "      <td>0.097321</td>\n",
       "      <td>0.023</td>\n",
       "      <td>1</td>\n",
       "    </tr>\n",
       "  </tbody>\n",
       "</table>\n",
       "<p>24804 rows × 6 columns</p>\n",
       "</div>"
      ],
      "text/plain": [
       "                                                 reviews  polarity  \\\n",
       "0      Once again Mr Costner has dragged out a movie ...  0.063860   \n",
       "1      This is an example of why the majority of acti...  0.042554   \n",
       "2      First of all I hate those moronic rappers who ...  0.000569   \n",
       "3      Not even the Beatles could write songs everyon...  0.052206   \n",
       "4      Brass pictures movies is not a fitting word fo...  0.086952   \n",
       "...                                                  ...       ...   \n",
       "24995  I was extraordinarily impressed by this film I...  0.456667   \n",
       "24996  Although Im not a golf fan I attended a sneak ...  0.098039   \n",
       "24997  From the start of The Edge Of Love the viewer ...  0.244534   \n",
       "24998  This movie with all its complexity and subtlet...  0.246374   \n",
       "24999  Ive seen this story before but my kids havent ... -0.022123   \n",
       "\n",
       "       subjectivity    lenght  punct%  binary  \n",
       "0          0.562982  0.070922   0.027       0  \n",
       "1          0.387165  0.103310   0.040       0  \n",
       "2          0.554710  0.095508   0.025       0  \n",
       "3          0.407353  0.131836   0.029       0  \n",
       "4          0.412810  0.114184   0.030       0  \n",
       "...             ...       ...     ...     ...  \n",
       "24995      0.605556  0.053507   0.030       1  \n",
       "24996      0.605882  0.051931   0.033       0  \n",
       "24997      0.494915  0.312293   0.041       1  \n",
       "24998      0.594210  0.071316   0.037       0  \n",
       "24999      0.529167  0.097321   0.023       1  \n",
       "\n",
       "[24804 rows x 6 columns]"
      ]
     },
     "execution_count": 358,
     "metadata": {},
     "output_type": "execute_result"
    }
   ],
   "source": [
    "x_train"
   ]
  },
  {
   "cell_type": "code",
   "execution_count": 359,
   "metadata": {},
   "outputs": [
    {
     "data": {
      "text/html": [
       "<div>\n",
       "<style scoped>\n",
       "    .dataframe tbody tr th:only-of-type {\n",
       "        vertical-align: middle;\n",
       "    }\n",
       "\n",
       "    .dataframe tbody tr th {\n",
       "        vertical-align: top;\n",
       "    }\n",
       "\n",
       "    .dataframe thead th {\n",
       "        text-align: right;\n",
       "    }\n",
       "</style>\n",
       "<table border=\"1\" class=\"dataframe\">\n",
       "  <thead>\n",
       "    <tr style=\"text-align: right;\">\n",
       "      <th></th>\n",
       "      <th>reviews</th>\n",
       "      <th>polarity</th>\n",
       "      <th>subjectivity</th>\n",
       "      <th>lenght</th>\n",
       "      <th>punct%</th>\n",
       "      <th>binary</th>\n",
       "    </tr>\n",
       "  </thead>\n",
       "  <tbody>\n",
       "    <tr>\n",
       "      <th>0</th>\n",
       "      <td>Once again Mr Costner has dragged out a movie ...</td>\n",
       "      <td>0.063860</td>\n",
       "      <td>0.562982</td>\n",
       "      <td>0.070922</td>\n",
       "      <td>0.027</td>\n",
       "      <td>0</td>\n",
       "    </tr>\n",
       "    <tr>\n",
       "      <th>1</th>\n",
       "      <td>This is an example of why the majority of acti...</td>\n",
       "      <td>0.042554</td>\n",
       "      <td>0.387165</td>\n",
       "      <td>0.103310</td>\n",
       "      <td>0.040</td>\n",
       "      <td>0</td>\n",
       "    </tr>\n",
       "    <tr>\n",
       "      <th>2</th>\n",
       "      <td>First of all I hate those moronic rappers who ...</td>\n",
       "      <td>0.000569</td>\n",
       "      <td>0.554710</td>\n",
       "      <td>0.095508</td>\n",
       "      <td>0.025</td>\n",
       "      <td>0</td>\n",
       "    </tr>\n",
       "    <tr>\n",
       "      <th>3</th>\n",
       "      <td>Not even the Beatles could write songs everyon...</td>\n",
       "      <td>0.052206</td>\n",
       "      <td>0.407353</td>\n",
       "      <td>0.131836</td>\n",
       "      <td>0.029</td>\n",
       "      <td>0</td>\n",
       "    </tr>\n",
       "    <tr>\n",
       "      <th>4</th>\n",
       "      <td>Brass pictures movies is not a fitting word fo...</td>\n",
       "      <td>0.086952</td>\n",
       "      <td>0.412810</td>\n",
       "      <td>0.114184</td>\n",
       "      <td>0.030</td>\n",
       "      <td>0</td>\n",
       "    </tr>\n",
       "    <tr>\n",
       "      <th>...</th>\n",
       "      <td>...</td>\n",
       "      <td>...</td>\n",
       "      <td>...</td>\n",
       "      <td>...</td>\n",
       "      <td>...</td>\n",
       "      <td>...</td>\n",
       "    </tr>\n",
       "    <tr>\n",
       "      <th>24995</th>\n",
       "      <td>I was extraordinarily impressed by this film I...</td>\n",
       "      <td>0.456667</td>\n",
       "      <td>0.605556</td>\n",
       "      <td>0.053507</td>\n",
       "      <td>0.030</td>\n",
       "      <td>1</td>\n",
       "    </tr>\n",
       "    <tr>\n",
       "      <th>24996</th>\n",
       "      <td>Although Im not a golf fan I attended a sneak ...</td>\n",
       "      <td>0.098039</td>\n",
       "      <td>0.605882</td>\n",
       "      <td>0.051931</td>\n",
       "      <td>0.033</td>\n",
       "      <td>0</td>\n",
       "    </tr>\n",
       "    <tr>\n",
       "      <th>24997</th>\n",
       "      <td>From the start of The Edge Of Love the viewer ...</td>\n",
       "      <td>0.244534</td>\n",
       "      <td>0.494915</td>\n",
       "      <td>0.312293</td>\n",
       "      <td>0.041</td>\n",
       "      <td>1</td>\n",
       "    </tr>\n",
       "    <tr>\n",
       "      <th>24998</th>\n",
       "      <td>This movie with all its complexity and subtlet...</td>\n",
       "      <td>0.246374</td>\n",
       "      <td>0.594210</td>\n",
       "      <td>0.071316</td>\n",
       "      <td>0.037</td>\n",
       "      <td>0</td>\n",
       "    </tr>\n",
       "    <tr>\n",
       "      <th>24999</th>\n",
       "      <td>Ive seen this story before but my kids havent ...</td>\n",
       "      <td>-0.022123</td>\n",
       "      <td>0.529167</td>\n",
       "      <td>0.097321</td>\n",
       "      <td>0.023</td>\n",
       "      <td>1</td>\n",
       "    </tr>\n",
       "  </tbody>\n",
       "</table>\n",
       "<p>25000 rows × 6 columns</p>\n",
       "</div>"
      ],
      "text/plain": [
       "                                                 reviews  polarity  \\\n",
       "0      Once again Mr Costner has dragged out a movie ...  0.063860   \n",
       "1      This is an example of why the majority of acti...  0.042554   \n",
       "2      First of all I hate those moronic rappers who ...  0.000569   \n",
       "3      Not even the Beatles could write songs everyon...  0.052206   \n",
       "4      Brass pictures movies is not a fitting word fo...  0.086952   \n",
       "...                                                  ...       ...   \n",
       "24995  I was extraordinarily impressed by this film I...  0.456667   \n",
       "24996  Although Im not a golf fan I attended a sneak ...  0.098039   \n",
       "24997  From the start of The Edge Of Love the viewer ...  0.244534   \n",
       "24998  This movie with all its complexity and subtlet...  0.246374   \n",
       "24999  Ive seen this story before but my kids havent ... -0.022123   \n",
       "\n",
       "       subjectivity    lenght  punct%  binary  \n",
       "0          0.562982  0.070922   0.027       0  \n",
       "1          0.387165  0.103310   0.040       0  \n",
       "2          0.554710  0.095508   0.025       0  \n",
       "3          0.407353  0.131836   0.029       0  \n",
       "4          0.412810  0.114184   0.030       0  \n",
       "...             ...       ...     ...     ...  \n",
       "24995      0.605556  0.053507   0.030       1  \n",
       "24996      0.605882  0.051931   0.033       0  \n",
       "24997      0.494915  0.312293   0.041       1  \n",
       "24998      0.594210  0.071316   0.037       0  \n",
       "24999      0.529167  0.097321   0.023       1  \n",
       "\n",
       "[25000 rows x 6 columns]"
      ]
     },
     "execution_count": 359,
     "metadata": {},
     "output_type": "execute_result"
    }
   ],
   "source": [
    "x_test"
   ]
  },
  {
   "cell_type": "code",
   "execution_count": 360,
   "metadata": {},
   "outputs": [],
   "source": [
    "from sklearn.base import BaseEstimator, TransformerMixin\n",
    "from sklearn.pipeline import FeatureUnion\n",
    "from sklearn.feature_extraction import DictVectorizer\n",
    "class ItemSelector(BaseEstimator, TransformerMixin):\n",
    "    def __init__(self, key):\n",
    "        self.key = key\n",
    "\n",
    "    def fit(self, x, y=None):\n",
    "        return self\n",
    "\n",
    "    def transform(self, data_dict):\n",
    "        return data_dict[self.key]\n",
    "\n",
    "\n",
    "class TextStats(BaseEstimator, TransformerMixin):\n",
    "    \"\"\"Extract features from each document for DictVectorizer\"\"\"\n",
    "\n",
    "    def fit(self, x, y=None):\n",
    "        return self\n",
    "\n",
    "    def transform(self, data):\n",
    "        return [{'pos':  row['polarity'], 'sub': row['subjectivity'],'lenght': row['lenght'],'punct%': row['punct%'],'binary': row['binary']} for _, row in data.iterrows()]"
   ]
  },
  {
   "cell_type": "code",
   "execution_count": 361,
   "metadata": {},
   "outputs": [],
   "source": [
    "from sklearn.pipeline import Pipeline\n",
    "from sklearn.feature_extraction.text import TfidfVectorizer\n",
    "\n",
    "\n",
    "pipeline = Pipeline([\n",
    "    ('union', FeatureUnion(\n",
    "        transformer_list=[\n",
    "\n",
    "            # Pipeline for pulling features from the text\n",
    "            ('reviews', Pipeline([\n",
    "                ('selector', ItemSelector(key='reviews')),\n",
    "                ('tfidf', TfidfVectorizer(preprocessor=clean_text,\n",
    "                     use_idf=1,smooth_idf=1)),\n",
    "            ])),\n",
    "\n",
    "            # Pipeline for pulling metadata features\n",
    "            ('stats', Pipeline([\n",
    "                ('selector', ItemSelector(key=['polarity', 'subjectivity', 'lenght','punct%','binary'])),\n",
    "                ('stats', TextStats()),  # returns a list of dicts\n",
    "                ('vect', DictVectorizer()),  # list of dicts -> feature matrix\n",
    "            ])),\n",
    "\n",
    "        ],\n",
    "\n",
    "       \n",
    "    ))\n",
    "])"
   ]
  },
  {
   "cell_type": "code",
   "execution_count": null,
   "metadata": {},
   "outputs": [],
   "source": []
  },
  {
   "cell_type": "code",
   "execution_count": 362,
   "metadata": {},
   "outputs": [
    {
     "data": {
      "text/plain": [
       "Pipeline(steps=[('union',\n",
       "                 FeatureUnion(transformer_list=[('reviews',\n",
       "                                                 Pipeline(steps=[('selector',\n",
       "                                                                  ItemSelector(key='reviews')),\n",
       "                                                                 ('tfidf',\n",
       "                                                                  TfidfVectorizer(preprocessor=<function clean_text at 0x000001F609B8D4C0>,\n",
       "                                                                                  smooth_idf=1,\n",
       "                                                                                  use_idf=1))])),\n",
       "                                                ('stats',\n",
       "                                                 Pipeline(steps=[('selector',\n",
       "                                                                  ItemSelector(key=['polarity',\n",
       "                                                                                    'subjectivity',\n",
       "                                                                                    'lenght',\n",
       "                                                                                    'punct%',\n",
       "                                                                                    'binary'])),\n",
       "                                                                 ('stats',\n",
       "                                                                  TextStats()),\n",
       "                                                                 ('vect',\n",
       "                                                                  DictVectorizer())]))]))])"
      ]
     },
     "execution_count": 362,
     "metadata": {},
     "output_type": "execute_result"
    }
   ],
   "source": [
    "\n",
    "pipeline.fit(x_train)"
   ]
  },
  {
   "cell_type": "code",
   "execution_count": 363,
   "metadata": {},
   "outputs": [],
   "source": [
    "train_vec = pipeline.transform(x_train)\n",
    "test_vec = pipeline.transform(x_test)"
   ]
  },
  {
   "cell_type": "code",
   "execution_count": 364,
   "metadata": {},
   "outputs": [
    {
     "name": "stdout",
     "output_type": "stream",
     "text": [
      "Время, затраченное на выполнение данного кода =  25.201635360717773\n"
     ]
    },
    {
     "name": "stderr",
     "output_type": "stream",
     "text": [
      "D:\\Anaconda\\envs\\name_X\\lib\\site-packages\\sklearn\\linear_model\\_logistic.py:763: ConvergenceWarning: lbfgs failed to converge (status=1):\n",
      "STOP: TOTAL NO. of ITERATIONS REACHED LIMIT.\n",
      "\n",
      "Increase the number of iterations (max_iter) or scale the data as shown in:\n",
      "    https://scikit-learn.org/stable/modules/preprocessing.html\n",
      "Please also refer to the documentation for alternative solver options:\n",
      "    https://scikit-learn.org/stable/modules/linear_model.html#logistic-regression\n",
      "  n_iter_i = _check_optimize_result(\n"
     ]
    }
   ],
   "source": [
    "from sklearn.linear_model import LogisticRegression\n",
    "\n",
    "import time\n",
    "startTime = time.time() # время начала замера\n",
    "\n",
    "clf = LogisticRegression()\n",
    "clf.fit(train_vec, y_train)\n",
    "\n",
    "endTime = time.time() #время конца замера\n",
    "totalTime = endTime - startTime #вычисляем затраченное время\n",
    "\n",
    "print(\"Время, затраченное на выполнение данного кода = \", totalTime)"
   ]
  },
  {
   "cell_type": "code",
   "execution_count": 365,
   "metadata": {},
   "outputs": [
    {
     "name": "stdout",
     "output_type": "stream",
     "text": [
      "              precision    recall  f1-score   support\n",
      "\n",
      "           1       0.72      0.94      0.81      5022\n",
      "           2       0.93      0.46      0.61      2302\n",
      "           3       0.90      0.64      0.75      2541\n",
      "           4       0.84      0.75      0.79      2635\n",
      "           7       0.91      0.87      0.89      2307\n",
      "           8       0.88      0.94      0.91      2850\n",
      "           9       0.90      0.87      0.89      2344\n",
      "          10       0.85      0.97      0.91      4999\n",
      "\n",
      "    accuracy                           0.84     25000\n",
      "   macro avg       0.87      0.80      0.82     25000\n",
      "weighted avg       0.85      0.84      0.83     25000\n",
      "\n"
     ]
    }
   ],
   "source": [
    "from sklearn.metrics import classification_report\n",
    "report = classification_report(y_test, clf.predict(test_vec))\n",
    "print(report)"
   ]
  },
  {
   "cell_type": "code",
   "execution_count": 123,
   "metadata": {},
   "outputs": [
    {
     "name": "stdout",
     "output_type": "stream",
     "text": [
      "0.37512\n",
      "Время, затраченное на выполнение данного кода =  35.01049876213074\n"
     ]
    }
   ],
   "source": [
    "startTime = time.time() # время начала замера\n",
    "\n",
    "\n",
    "from sklearn.ensemble import RandomForestClassifier\n",
    "clf = RandomForestClassifier(n_estimators=200,n_jobs=-1,class_weight='balanced')\n",
    "clf.fit(train_vec, y_train)\n",
    "print(metrics.accuracy_score(y_test, clf.predict(test_vec)))\n",
    "\n",
    "\n",
    "endTime = time.time() #время конца замера\n",
    "totalTime = endTime - startTime #вычисляем затраченное время\n",
    "\n",
    "print(\"Время, затраченное на выполнение данного кода = \", totalTime)"
   ]
  },
  {
   "cell_type": "code",
   "execution_count": 569,
   "metadata": {},
   "outputs": [
    {
     "name": "stdout",
     "output_type": "stream",
     "text": [
      "Note: you may need to restart the kernel to use updated packages.Collecting xgboost\n",
      "\n",
      "  Downloading xgboost-1.3.3-py3-none-win_amd64.whl (95.2 MB)\n",
      "Requirement already satisfied: numpy in d:\\anaconda\\envs\\fortf\\lib\\site-packages (from xgboost) (1.15.4)\n",
      "Requirement already satisfied: scipy in d:\\anaconda\\envs\\fortf\\lib\\site-packages (from xgboost) (1.1.0)\n",
      "Installing collected packages: xgboost\n",
      "Successfully installed xgboost-1.3.3\n"
     ]
    }
   ],
   "source": [
    "pip install xgboost\n"
   ]
  },
  {
   "cell_type": "code",
   "execution_count": 366,
   "metadata": {},
   "outputs": [
    {
     "name": "stderr",
     "output_type": "stream",
     "text": [
      "D:\\Anaconda\\envs\\name_X\\lib\\site-packages\\xgboost\\sklearn.py:888: UserWarning: The use of label encoder in XGBClassifier is deprecated and will be removed in a future release. To remove this warning, do the following: 1) Pass option use_label_encoder=False when constructing XGBClassifier object; and 2) Encode your labels (y) as integers starting with 0, i.e. 0, 1, 2, ..., [num_class - 1].\n",
      "  warnings.warn(label_encoder_deprecation_msg, UserWarning)\n"
     ]
    },
    {
     "data": {
      "text/plain": [
       "Pipeline(steps=[('standardscaler', StandardScaler(with_mean=False)),\n",
       "                ('xgbclassifier',\n",
       "                 XGBClassifier(base_score=0.5, booster='gbtree',\n",
       "                               colsample_bylevel=1, colsample_bynode=1,\n",
       "                               colsample_bytree=1, eval_metric='merror',\n",
       "                               gamma=0, gpu_id=-1, importance_type='gain',\n",
       "                               interaction_constraints='',\n",
       "                               learning_rate=0.300000012, max_delta_step=0,\n",
       "                               max_depth=6, min_child_weight=1, missing=nan,\n",
       "                               monotone_constraints='()', n_estimators=100,\n",
       "                               n_jobs=16, nthread=16, num_parallel_tree=1,\n",
       "                               objective='multi:softprob', random_state=0,\n",
       "                               reg_alpha=0, reg_lambda=1, scale_pos_weight=None,\n",
       "                               subsample=1, tree_method='exact',\n",
       "                               validate_parameters=1, verbosity=None))])"
      ]
     },
     "execution_count": 366,
     "metadata": {},
     "output_type": "execute_result"
    }
   ],
   "source": [
    "from xgboost import XGBClassifier\n",
    "from sklearn.pipeline import make_pipeline\n",
    "from sklearn.preprocessing import StandardScaler\n",
    "\n",
    "clf = make_pipeline(StandardScaler(with_mean=False),  XGBClassifier(eval_metric='merror',nthread=16))\n",
    "\n",
    "clf.fit(train_vec, y_train)\n"
   ]
  },
  {
   "cell_type": "code",
   "execution_count": 367,
   "metadata": {},
   "outputs": [
    {
     "name": "stdout",
     "output_type": "stream",
     "text": [
      "0.90128\n",
      "              precision    recall  f1-score   support\n",
      "\n",
      "           1       0.81      0.95      0.87      5022\n",
      "           2       0.98      0.70      0.82      2302\n",
      "           3       0.96      0.76      0.84      2541\n",
      "           4       0.92      0.83      0.87      2635\n",
      "           7       0.98      0.94      0.96      2307\n",
      "           8       0.93      0.98      0.95      2850\n",
      "           9       0.96      0.94      0.95      2344\n",
      "          10       0.88      0.98      0.93      4999\n",
      "\n",
      "    accuracy                           0.90     25000\n",
      "   macro avg       0.93      0.88      0.90     25000\n",
      "weighted avg       0.91      0.90      0.90     25000\n",
      "\n"
     ]
    }
   ],
   "source": [
    "print(metrics.accuracy_score(y_test, clf.predict(test_vec)))\n",
    "report = classification_report(y_test, clf.predict(test_vec))\n",
    "print(report)"
   ]
  },
  {
   "cell_type": "code",
   "execution_count": null,
   "metadata": {},
   "outputs": [],
   "source": []
  },
  {
   "cell_type": "code",
   "execution_count": 368,
   "metadata": {},
   "outputs": [],
   "source": [
    "from sklearn.svm import LinearSVC\n",
    "from sklearn.linear_model import SGDClassifier\n",
    "\n",
    "clf_sv = LinearSVC( class_weight = 'balanced', multi_class='ovr',  max_iter=10000) #Support Vector machines\n",
    "clf_sgd = SGDClassifier(max_iter=200,) # Stochastic Gradient Classifier"
   ]
  },
  {
   "cell_type": "code",
   "execution_count": 369,
   "metadata": {},
   "outputs": [
    {
     "name": "stdout",
     "output_type": "stream",
     "text": [
      "[0.50120948 0.50096759 0.50580552]\n",
      "Mean score: 0.503 (+/-0.002)\n",
      "[0.52140784 0.51136913 0.52164973]\n",
      "Mean score: 0.518 (+/-0.005)\n",
      "Wall time: 7.97 s\n"
     ]
    }
   ],
   "source": [
    "%%time\n",
    "import numpy as np\n",
    "from sklearn.model_selection import cross_val_score\n",
    "\n",
    "clfs = [clf_sv, clf_sgd]\n",
    "cv = 3\n",
    "for clf in clfs:\n",
    "    scores = cross_val_score(clf,train_vec, y_train, cv=cv, scoring=\"accuracy\" )\n",
    "    print (scores)\n",
    "    print ((\"Mean score: {0:.3f} (+/-{1:.3f})\").format(\n",
    "        np.mean(scores), np.std(scores)))"
   ]
  },
  {
   "cell_type": "code",
   "execution_count": 202,
   "metadata": {},
   "outputs": [
    {
     "data": {
      "text/plain": [
       "SGDClassifier(max_iter=200)"
      ]
     },
     "execution_count": 202,
     "metadata": {},
     "output_type": "execute_result"
    }
   ],
   "source": [
    "clf_sgd.fit(train_vec, y_train )"
   ]
  },
  {
   "cell_type": "code",
   "execution_count": 203,
   "metadata": {},
   "outputs": [
    {
     "name": "stdout",
     "output_type": "stream",
     "text": [
      "              precision    recall  f1-score   support\n",
      "\n",
      "           0       0.80      0.98      0.88      4999\n",
      "           1       0.70      0.93      0.80      5022\n",
      "           2       0.95      0.49      0.64      2302\n",
      "           3       0.98      0.63      0.77      2541\n",
      "           4       0.97      0.69      0.81      2635\n",
      "           7       0.91      0.91      0.91      2307\n",
      "           8       0.95      0.86      0.90      2850\n",
      "           9       0.84      0.95      0.89      2344\n",
      "\n",
      "    accuracy                           0.84     25000\n",
      "   macro avg       0.89      0.81      0.83     25000\n",
      "weighted avg       0.86      0.84      0.83     25000\n",
      "\n"
     ]
    }
   ],
   "source": [
    "from sklearn.metrics import classification_report\n",
    "report = classification_report(y_test, clf_sgd.predict(test_vec))\n",
    "print(report)"
   ]
  },
  {
   "cell_type": "code",
   "execution_count": 43,
   "metadata": {},
   "outputs": [],
   "source": [
    "params_grid = [{'kernel': ['rbf'], 'gamma': [1e-3, 1e-4],\n",
    "                     'C': [1, 10, 100, 1000]},\n",
    "                    {'kernel': ['linear'], 'C': [1, 10, 100, 1000]}]"
   ]
  },
  {
   "cell_type": "code",
   "execution_count": 46,
   "metadata": {},
   "outputs": [
    {
     "data": {
      "text/plain": [
       "GridSearchCV(cv=5, estimator=SVC(),\n",
       "             param_grid=[{'C': [1, 10, 100, 1000], 'gamma': [0.001, 0.0001],\n",
       "                          'kernel': ['rbf']},\n",
       "                         {'C': [1, 10, 100, 1000], 'kernel': ['linear']}])"
      ]
     },
     "execution_count": 46,
     "metadata": {},
     "output_type": "execute_result"
    }
   ],
   "source": [
    "from sklearn.metrics import confusion_matrix,classification_report\n",
    "from sklearn.model_selection import cross_val_score, GridSearchCV\n",
    "from sklearn.svm import SVC\n",
    "svm_model = GridSearchCV(SVC(), params_grid, cv=5,n_jobs=-1)\n",
    "svm_model.fit(train_vec, y_train)"
   ]
  },
  {
   "cell_type": "code",
   "execution_count": 47,
   "metadata": {},
   "outputs": [
    {
     "name": "stdout",
     "output_type": "stream",
     "text": [
      "Best score for training data: 0.39592 \n",
      "\n",
      "Best C: 1 \n",
      "\n",
      "Best Kernel: linear \n",
      "\n",
      "Best Gamma: scale \n",
      "\n"
     ]
    }
   ],
   "source": [
    "print('Best score for training data:', svm_model.best_score_,\"\\n\") \n",
    "\n",
    "# View the best parameters for the model found using grid search\n",
    "print('Best C:',svm_model.best_estimator_.C,\"\\n\") \n",
    "print('Best Kernel:',svm_model.best_estimator_.kernel,\"\\n\")\n",
    "print('Best Gamma:',svm_model.best_estimator_.gamma,\"\\n\")\n",
    "\n",
    "final_model = svm_model.best_estimator_\n",
    "y_pred = final_model.predict(test_vec)\n"
   ]
  },
  {
   "cell_type": "code",
   "execution_count": 51,
   "metadata": {},
   "outputs": [
    {
     "name": "stdout",
     "output_type": "stream",
     "text": [
      "[[3622  223   24   59  114  208  564  185]\n",
      " [ 248 3876  234  261  314   31   45   13]\n",
      " [ 146 1272  171  315  313   34   44    7]\n",
      " [ 180  944  201  400  615  113   80    8]\n",
      " [ 203  613  162  418  828  200  189   22]\n",
      " [ 573  107   26  118  299  542  551   91]\n",
      " [1153  107   29   81  189  432  693  166]\n",
      " [1304  104   14   39   93  199  451  140]]\n",
      "\n",
      "\n",
      "              precision    recall  f1-score   support\n",
      "\n",
      "           0       0.49      0.72      0.58      4999\n",
      "           1       0.53      0.77      0.63      5022\n",
      "           2       0.20      0.07      0.11      2302\n",
      "           3       0.24      0.16      0.19      2541\n",
      "           4       0.30      0.31      0.31      2635\n",
      "           7       0.31      0.23      0.27      2307\n",
      "           8       0.26      0.24      0.25      2850\n",
      "           9       0.22      0.06      0.09      2344\n",
      "\n",
      "    accuracy                           0.41     25000\n",
      "   macro avg       0.32      0.32      0.30     25000\n",
      "weighted avg       0.36      0.41      0.37     25000\n",
      "\n",
      "Training set score for SVM: 0.811360\n",
      "Testing  set score for SVM: 0.410880\n"
     ]
    },
    {
     "data": {
      "text/plain": [
       "<bound method BaseSearchCV.score of GridSearchCV(cv=5, estimator=SVC(),\n",
       "             param_grid=[{'C': [1, 10, 100, 1000], 'gamma': [0.001, 0.0001],\n",
       "                          'kernel': ['rbf']},\n",
       "                         {'C': [1, 10, 100, 1000], 'kernel': ['linear']}])>"
      ]
     },
     "execution_count": 51,
     "metadata": {},
     "output_type": "execute_result"
    }
   ],
   "source": [
    "# Making the Confusion Matrix\n",
    "\n",
    "print(confusion_matrix(y_test,y_pred))\n",
    "print(\"\\n\")\n",
    "print(classification_report(y_test,y_pred))\n",
    "\n",
    "print(\"Training set score for SVM: %f\" % final_model.score(train_vec , y_train))\n",
    "print(\"Testing  set score for SVM: %f\" % final_model.score(test_vec , y_test ))\n",
    "\n",
    "svm_model.score"
   ]
  },
  {
   "cell_type": "code",
   "execution_count": 370,
   "metadata": {},
   "outputs": [
    {
     "name": "stdout",
     "output_type": "stream",
     "text": [
      "              precision    recall  f1-score   support\n",
      "\n",
      "           1       0.92      0.84      0.88      5022\n",
      "           2       0.81      0.89      0.85      2302\n",
      "           3       0.85      0.90      0.87      2541\n",
      "           4       0.88      0.90      0.89      2635\n",
      "           7       0.92      0.95      0.93      2307\n",
      "           8       0.95      0.90      0.92      2850\n",
      "           9       0.91      0.94      0.93      2344\n",
      "          10       0.96      0.95      0.96      4999\n",
      "\n",
      "    accuracy                           0.91     25000\n",
      "   macro avg       0.90      0.91      0.90     25000\n",
      "weighted avg       0.91      0.91      0.91     25000\n",
      "\n"
     ]
    }
   ],
   "source": [
    "from sklearn.svm import SVC\n",
    "svm_model=SVC(kernel='linear',class_weight='balanced')\n",
    "svm_model.fit(train_vec,y_train)\n",
    "y_pred = svm_model.predict(test_vec)\n",
    "print(classification_report(y_test,y_pred))"
   ]
  },
  {
   "cell_type": "code",
   "execution_count": null,
   "metadata": {},
   "outputs": [],
   "source": []
  },
  {
   "cell_type": "code",
   "execution_count": 57,
   "metadata": {},
   "outputs": [
    {
     "data": {
      "text/plain": [
       "0.37628"
      ]
     },
     "execution_count": 57,
     "metadata": {},
     "output_type": "execute_result"
    }
   ],
   "source": [
    "svm_model.score(test_vec , y_test )"
   ]
  },
  {
   "cell_type": "code",
   "execution_count": 500,
   "metadata": {},
   "outputs": [
    {
     "name": "stdout",
     "output_type": "stream",
     "text": [
      "              precision    recall  f1-score   support\n",
      "\n",
      "           0       0.57      0.55      0.56      4999\n",
      "           1       0.63      0.61      0.62      5022\n",
      "           2       0.22      0.22      0.22      2302\n",
      "           3       0.24      0.25      0.25      2541\n",
      "           4       0.30      0.33      0.31      2635\n",
      "           7       0.31      0.34      0.32      2307\n",
      "           8       0.28      0.26      0.27      2850\n",
      "           9       0.23      0.23      0.23      2344\n",
      "\n",
      "    accuracy                           0.39     25000\n",
      "   macro avg       0.35      0.35      0.35     25000\n",
      "weighted avg       0.40      0.39      0.40     25000\n",
      "\n"
     ]
    }
   ],
   "source": [
    "from sklearn.svm import SVC\n",
    "from sklearn.pipeline import make_pipeline\n",
    "from sklearn.preprocessing import StandardScaler\n",
    "\n",
    "clf = make_pipeline(StandardScaler(with_mean=False), SVC(kernel='linear',class_weight='balanced'))\n",
    "clf.fit(train_vec,y_train)\n",
    "y_pred = svm_model.predict(test_vec)\n",
    "print(classification_report(y_test,y_pred))"
   ]
  },
  {
   "cell_type": "code",
   "execution_count": 130,
   "metadata": {},
   "outputs": [],
   "source": [
    "from sklearn.decomposition import TruncatedSVD\n",
    "tsvd = TruncatedSVD(n_components=100)\n",
    "x_train_pca = tsvd.fit_transform(train_vec)\n",
    "x_test_pca = tsvd.transform(test_vec)"
   ]
  },
  {
   "cell_type": "code",
   "execution_count": 131,
   "metadata": {},
   "outputs": [
    {
     "name": "stdout",
     "output_type": "stream",
     "text": [
      "0.37068\n",
      "Время, затраченное на выполнение данного кода =  7.405126094818115\n"
     ]
    }
   ],
   "source": [
    "import time\n",
    "from sklearn import metrics\n",
    "from sklearn.linear_model import LogisticRegression\n",
    "startTime = time.time() # время начала замера\n",
    "\n",
    "clf = LogisticRegression(max_iter=500,n_jobs=-1,class_weight='balanced')\n",
    "clf.fit(x_train_pca, y_train)\n",
    "print(metrics.accuracy_score(y_test, clf.predict(x_test_pca)))\n",
    "\n",
    "endTime = time.time() #время конца замера\n",
    "totalTime = endTime - startTime #вычисляем затраченное время\n",
    "\n",
    "print(\"Время, затраченное на выполнение данного кода = \", totalTime)"
   ]
  },
  {
   "cell_type": "code",
   "execution_count": 110,
   "metadata": {},
   "outputs": [
    {
     "name": "stderr",
     "output_type": "stream",
     "text": [
      "D:\\Anaconda\\envs\\name_X\\lib\\site-packages\\xgboost\\sklearn.py:888: UserWarning: The use of label encoder in XGBClassifier is deprecated and will be removed in a future release. To remove this warning, do the following: 1) Pass option use_label_encoder=False when constructing XGBClassifier object; and 2) Encode your labels (y) as integers starting with 0, i.e. 0, 1, 2, ..., [num_class - 1].\n",
      "  warnings.warn(label_encoder_deprecation_msg, UserWarning)\n"
     ]
    },
    {
     "data": {
      "text/plain": [
       "Pipeline(steps=[('standardscaler', StandardScaler(with_mean=False)),\n",
       "                ('xgbclassifier',\n",
       "                 XGBClassifier(base_score=0.5, booster='gbtree',\n",
       "                               colsample_bylevel=1, colsample_bynode=1,\n",
       "                               colsample_bytree=1, eval_metric='merror',\n",
       "                               gamma=0, gpu_id=-1, importance_type='gain',\n",
       "                               interaction_constraints='',\n",
       "                               learning_rate=0.300000012, max_delta_step=0,\n",
       "                               max_depth=6, min_child_weight=1, missing=nan,\n",
       "                               monotone_constraints='()', n_estimators=100,\n",
       "                               n_jobs=16, nthread=16, num_parallel_tree=1,\n",
       "                               objective='multi:softprob', random_state=0,\n",
       "                               reg_alpha=0, reg_lambda=1, scale_pos_weight=None,\n",
       "                               subsample=1, tree_method='exact',\n",
       "                               validate_parameters=1, verbosity=None))])"
      ]
     },
     "execution_count": 110,
     "metadata": {},
     "output_type": "execute_result"
    }
   ],
   "source": [
    "from xgboost import XGBClassifier\n",
    "from sklearn.pipeline import make_pipeline\n",
    "from sklearn.preprocessing import StandardScaler\n",
    "\n",
    "clf = make_pipeline(StandardScaler(with_mean=False),  XGBClassifier(eval_metric='merror',nthread=16))\n",
    "\n",
    "clf.fit(x_train_pca, y_train)"
   ]
  },
  {
   "cell_type": "code",
   "execution_count": 111,
   "metadata": {},
   "outputs": [
    {
     "data": {
      "text/plain": [
       "array([[3297,  320,   58,   74,  137,  219,  591,  303],\n",
       "       [ 308, 3694,  280,  280,  286,   51,   90,   33],\n",
       "       [ 159, 1216,  187,  277,  287,   66,   86,   24],\n",
       "       [ 183,  971,  187,  388,  519,  150,  116,   27],\n",
       "       [ 234,  658,  165,  366,  678,  246,  244,   44],\n",
       "       [ 530,  166,   40,  112,  300,  468,  555,  136],\n",
       "       [1070,  180,   40,   66,  215,  446,  639,  194],\n",
       "       [1202,  141,   32,   54,  110,  220,  419,  166]], dtype=int64)"
      ]
     },
     "execution_count": 111,
     "metadata": {},
     "output_type": "execute_result"
    }
   ],
   "source": [
    "from sklearn.metrics import confusion_matrix\n",
    "\n",
    "confusion_matrix(y_test,clf.predict(x_test_pca))"
   ]
  },
  {
   "cell_type": "code",
   "execution_count": 112,
   "metadata": {},
   "outputs": [
    {
     "name": "stdout",
     "output_type": "stream",
     "text": [
      "              precision    recall  f1-score   support\n",
      "\n",
      "           0       0.47      0.66      0.55      4999\n",
      "           1       0.50      0.74      0.60      5022\n",
      "           2       0.19      0.08      0.11      2302\n",
      "           3       0.24      0.15      0.19      2541\n",
      "           4       0.27      0.26      0.26      2635\n",
      "           7       0.25      0.20      0.22      2307\n",
      "           8       0.23      0.22      0.23      2850\n",
      "           9       0.18      0.07      0.10      2344\n",
      "\n",
      "    accuracy                           0.38     25000\n",
      "   macro avg       0.29      0.30      0.28     25000\n",
      "weighted avg       0.33      0.38      0.34     25000\n",
      "\n"
     ]
    }
   ],
   "source": [
    "print(classification_report(y_test,clf.predict(x_test_pca)))"
   ]
  },
  {
   "cell_type": "code",
   "execution_count": null,
   "metadata": {},
   "outputs": [],
   "source": []
  }
 ],
 "metadata": {
  "kernelspec": {
   "display_name": "Python 3",
   "language": "python",
   "name": "python3"
  },
  "language_info": {
   "codemirror_mode": {
    "name": "ipython",
    "version": 3
   },
   "file_extension": ".py",
   "mimetype": "text/x-python",
   "name": "python",
   "nbconvert_exporter": "python",
   "pygments_lexer": "ipython3",
   "version": "3.8.8"
  }
 },
 "nbformat": 4,
 "nbformat_minor": 4
}
